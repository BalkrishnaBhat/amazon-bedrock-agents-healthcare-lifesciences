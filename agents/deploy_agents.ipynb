{
 "cells": [
  {
   "cell_type": "markdown",
   "id": "b99a53f4-aaf6-49ff-9754-da2574a2b34e",
   "metadata": {},
   "source": [
    "# Prepare Environment for Biomarker Agents\n",
    "In this section we prepare this notebook environment with the necessary dependencies to create all Biomarker agents."
   ]
  },
  {
   "cell_type": "markdown",
   "id": "4afc73f6-1984-49c4-beae-20c5e4851ac4",
   "metadata": {},
   "source": [
    "#### Run the pip3 commands below to install all needed packages"
   ]
  },
  {
   "cell_type": "code",
   "execution_count": null,
   "id": "013cfb50-98bb-48bb-a55a-5c01b11b761b",
   "metadata": {},
   "outputs": [],
   "source": [
    "!pip3 install -r requirements.txt\n",
    "!pip3 install --upgrade boto3\n",
    "!pip3 show boto3"
   ]
  },
  {
   "cell_type": "markdown",
   "id": "e666564c-0eb4-4c3d-8e83-df552ea93138",
   "metadata": {},
   "source": [
    "#### Import all needed Python libraries"
   ]
  },
  {
   "cell_type": "code",
   "execution_count": null,
   "id": "04f7c86e-bea0-4011-adc7-93e0222feb6d",
   "metadata": {},
   "outputs": [],
   "source": [
    "# Standard Python libraries\n",
    "import boto3\n",
    "import sagemaker\n",
    "import os\n",
    "import json\n",
    "import time\n",
    "import uuid\n",
    "import inspect\n",
    "\n",
    "# Import needed functions to create agent (Bedrock sample code: https://github.com/awslabs/amazon-bedrock-agent-samples/blob/main/examples/amazon-bedrock-multi-agent-collaboration/energy_efficiency_management_agent/1-energy-forecast/1_forecasting_agent.ipynb)\n",
    "from bedrock_agent_helper import AgentsForAmazonBedrock"
   ]
  },
  {
   "cell_type": "markdown",
   "id": "361ef2e7-f5a1-4f4c-a172-4f2ee6bbcb36",
   "metadata": {},
   "source": [
    "#### Extract account information needed for agent creation and define needed agent models"
   ]
  },
  {
   "cell_type": "code",
   "execution_count": null,
   "id": "7740a8da-a386-44da-a897-27236bab6519",
   "metadata": {},
   "outputs": [],
   "source": [
    "# boto3 session\n",
    "sts_client = boto3.client('sts')\n",
    "session = boto3.session.Session()\n",
    "\n",
    "# Account info\n",
    "account_id = sts_client.get_caller_identity()[\"Account\"]\n",
    "region = session.region_name\n",
    "\n",
    "# Define service clients\n",
    "bedrock_client = boto3.client('bedrock-runtime', region)\n",
    "bedrock_agent_runtime_client = boto3.client(\"bedrock-agent-runtime\", region)\n",
    "lambda_client = boto3.client('lambda', region)\n",
    "ssm_client = boto3.client('ssm', region)\n",
    "\n",
    "# FM used for all Biomarker Agents, this version needed for agent collaboration\n",
    "agent_foundation_model = [\"anthropic.claude-3-5-sonnet-20241022-v2:0\"]\n",
    "\n",
    "# Collaborator need cross-inference model to avoid throttling issues\n",
    "collaborator_agent_foundation_model = [\"us.anthropic.claude-3-5-sonnet-20240620-v1:0\"]\n",
    "\n",
    "account_id, region"
   ]
  },
  {
   "cell_type": "markdown",
   "id": "4ccdf3d7-fe93-49a4-871b-3e9ca6a03750",
   "metadata": {},
   "source": [
    "#### Navigate to the SageMaker Notebook execution role displayed below in IAM and attach the following policies: \n",
    "\n",
    "#### \"BedrockFullAccess\", \"IAMFullAccess\", \"AmazonSSMFullAccess\", \"AWSLambda_FullAccess\"\n",
    "\n",
    "Give a few minutes for these permissions to update"
   ]
  },
  {
   "cell_type": "code",
   "execution_count": null,
   "id": "30268f71-621c-449c-a01b-7228d4cd7259",
   "metadata": {},
   "outputs": [],
   "source": [
    "# Output SageMaker Notebook execution role for user to add policies to\n",
    "\n",
    "# Get the SageMaker session\n",
    "sagemaker_session = sagemaker.Session()\n",
    "\n",
    "# Get the execution role\n",
    "role = sagemaker_session.get_caller_identity_arn()\n",
    "\n",
    "print(f\"SageMaker Execution Role: {role}\")"
   ]
  },
  {
   "cell_type": "markdown",
   "id": "b971eefc-e3e8-4fd2-8a8a-a3cd21dc5cdd",
   "metadata": {},
   "source": [
    "#### Ensure that you have access to Bedrock models needed by the agents\n",
    "If you have to enable model access, give a couple minutes before proceeding with agent creation"
   ]
  },
  {
   "cell_type": "code",
   "execution_count": null,
   "id": "12667b10-b10f-4bc4-ae86-3088745012d4",
   "metadata": {},
   "outputs": [],
   "source": [
    "# Create a Bedrock client\n",
    "bedrock = boto3.client('bedrock')\n",
    "\n",
    "# List the foundation models\n",
    "response = bedrock.list_foundation_models()\n",
    "\n",
    "# Save model summaries\n",
    "model_summaries = response['modelSummaries']\n",
    "\n",
    "# Extract model names\n",
    "model_names = [model['modelName'] for model in model_summaries]\n",
    "\n",
    "# Ensures that this list has the models 'Claude Sonnet 3.5' and 'Claude 3.5 Sonnet v2' for agent use\n",
    "\n",
    "if 'Claude Sonnet 3.5' and 'Claude 3.5 Sonnet v2' in model_names:\n",
    "    print(\"You have access to all models needed!\")\n",
    "else:\n",
    "    print(\"Enable access to both 'Claude Sonnet 3.5' and 'Claude 3.5 Sonnet v2' models using the Bedrock console\")"
   ]
  },
  {
   "cell_type": "markdown",
   "id": "a0ec9c39-04fe-4f22-bca6-d8e56264f4b3",
   "metadata": {},
   "source": [
    "#### Instantiate an agents class to interact with all Bedrock Agents and have access to needed functions"
   ]
  },
  {
   "cell_type": "code",
   "execution_count": null,
   "id": "1e970ffe-1733-4e8e-ace7-a493f04712c8",
   "metadata": {},
   "outputs": [],
   "source": [
    "# Class object to interact with all agents\n",
    "\n",
    "agents = AgentsForAmazonBedrock()\n",
    "print(agents)"
   ]
  },
  {
   "cell_type": "markdown",
   "id": "9a0c9563-445f-4f75-b9e2-bf24e59a8e0c",
   "metadata": {
    "jp-MarkdownHeadingCollapsed": true
   },
   "source": [
    "# Bedrock Agent Creation Flow\n",
    "\n",
    "1. Instantiate Bedrock Agent with key characteristics (name, description, instructions, etc.)\n",
    "2. Extract relevant information about agent (ARN, ID, alias, etc.)\n",
    "3. Associate Knowledge Base with agent (if needed)\n",
    "4. Define function/API schema for agent\n",
    "5. Add needed ActionGroups with associated Lambda functions to agent\n",
    "6. Give agent permission to use needed Lambda functions\n",
    "7. Test sample query by invoking agent directly\n",
    "8. Create official alias version ready for use by collaborator agent"
   ]
  },
  {
   "cell_type": "markdown",
   "id": "ead57e60-a75d-4a5c-973c-67dff3c2556a",
   "metadata": {},
   "source": [
    "# Prerequisites\n",
    "\n",
    "This notebook assumes that you have deployed the CloudFormation stack located at https://github.com/aws-samples/amazon-bedrock-agents-cancer-biomarker-discovery to your AWS account. \n",
    "\n",
    "To properly configure the Biomarker Agents you will need the information below from your deployment:\n",
    "\n",
    "- ncbiKnowledgeBase ID (needed for Research Evidence Agent) "
   ]
  },
  {
   "cell_type": "markdown",
   "id": "86078c4d-d727-4fd5-8d1d-37ef7b7e1f60",
   "metadata": {},
   "source": [
    "#### Fill in the NCBI Knowledge Base ID for the 'ncbi_kb_id' variable by going into Bedrock Knowledge Bases in console"
   ]
  },
  {
   "cell_type": "code",
   "execution_count": null,
   "id": "df994ab5-6f7f-40fc-bb5a-4626a9acc15b",
   "metadata": {},
   "outputs": [],
   "source": [
    "ncbi_kb_id = \"XXXXXXXXXX\""
   ]
  },
  {
   "cell_type": "markdown",
   "id": "1a0cfffe-30f5-42b9-920c-cc79ebe08e16",
   "metadata": {},
   "source": [
    "# Create Redshift Agent\n",
    "In this section we create the redshift sub-agent"
   ]
  },
  {
   "cell_type": "markdown",
   "id": "2b9ba364-7c21-4561-abd5-d8bd8a3ef6a2",
   "metadata": {},
   "source": [
    "#### Create Redshift Agent object"
   ]
  },
  {
   "cell_type": "code",
   "execution_count": null,
   "id": "e976d3f3-8120-4cf6-b748-170ac539c180",
   "metadata": {},
   "outputs": [],
   "source": [
    "# Define key parameters for agent\n",
    "agent_name = 'Biomarker-database-analyst'\n",
    "agent_description = \"biomarker query engine with redshift\"\n",
    "agent_instruction = \"\"\"You are a medical research assistant AI specialized in generating SQL queries for a database containing medical biomarker information. Your primary task is to interpret user queries, generate appropriate SQL queries, and provide relevant medical insights based on the data. Use only the appropriate tools as required by the specific question. Follow these instructions carefully: 1. Before generating any SQL query, use the /getschema tool to familiarize yourself with the database structure. This will ensure your queries are correctly formatted and target the appropriate columns. 2. When generating an SQL query: a. Write the query as a single line, removing all newline (\"\\n\") characters. b. Column names should remain consistent, do not modify the column names in the generated SQL query. 3. Before execution of a step, a. Evaluate the SQL query with the rationale of the specific step by using the /refinesql tool. Provide both the SQL query and a brief rationale for the specific step you're taking. Do not share the original user question with the tool. b. Only proceed to execute the query using the /queryredshift tool after receiving the evaluated and potentially optimized version from the /refinesql tool. c. If there is an explicit need for retrieving all the data in S3, avoid optimized query recommendations that aggregate the data. 4. When providing your response: a. Start with a brief summary of your understanding of the user's query. b. Explain the steps you're taking to address the query. c. Ask for clarifications from the user if required.\"\"\"\n",
    "\n",
    "# Instantiate agent\n",
    "redshift_agent = agents.create_agent(\n",
    "    agent_name,\n",
    "    agent_description,\n",
    "    agent_instruction,\n",
    "    agent_foundation_model,\n",
    "    code_interpretation=False,\n",
    "    verbose=False\n",
    ")\n",
    "\n",
    "redshift_agent"
   ]
  },
  {
   "cell_type": "markdown",
   "id": "183b0651-96e6-48f7-8cdc-6d8efc6806ec",
   "metadata": {},
   "source": [
    "#### Extract agent information needed for later"
   ]
  },
  {
   "cell_type": "code",
   "execution_count": null,
   "id": "be1c4843-71e8-4a3f-a7cc-bd37b8c79f88",
   "metadata": {},
   "outputs": [],
   "source": [
    "redshift_agent_id = redshift_agent[0]\n",
    "redshift_agent_arn = f\"arn:aws:bedrock:{region}:{account_id}:agent/{redshift_agent_id}\"\n",
    "\n",
    "redshift_agent_id, redshift_agent_arn"
   ]
  },
  {
   "cell_type": "markdown",
   "id": "7ec0833d-b63a-4813-8232-5821002793d2",
   "metadata": {},
   "source": [
    "#### Define the API Schema needed for the ActionGroup"
   ]
  },
  {
   "cell_type": "code",
   "execution_count": null,
   "id": "d3fbc09e-da15-42d7-a8ae-37c833df0306",
   "metadata": {},
   "outputs": [],
   "source": [
    "api_schema_string = \"{\\\"openapi\\\":\\\"3.0.1\\\",\\\"info\\\":{\\\"title\\\":\\\"Database schema look up and query APIs\\\",\\\"version\\\":\\\"1.0.0\\\",\\\"description\\\":\\\"APIs for looking up database table schemas and making queries to database tables.\\\"},\\\"paths\\\":{\\\"/getschema\\\":{\\\"get\\\":{\\\"summary\\\":\\\"Get a list of all columns in the redshift database\\\",\\\"description\\\":\\\"Get the list of all columns in the redshift database table. Return all the column information in database table.\\\",\\\"operationId\\\":\\\"getschema\\\",\\\"responses\\\":{\\\"200\\\":{\\\"description\\\":\\\"Gets the list of table names and their schemas in the database\\\",\\\"content\\\":{\\\"application/json\\\":{\\\"schema\\\":{\\\"type\\\":\\\"array\\\",\\\"items\\\":{\\\"type\\\":\\\"object\\\",\\\"properties\\\":{\\\"Table\\\":{\\\"type\\\":\\\"string\\\",\\\"description\\\":\\\"The name of the table in the database.\\\"},\\\"Schema\\\":{\\\"type\\\":\\\"string\\\",\\\"description\\\":\\\"The schema of the table in the database. Contains all columns needed for making queries.\\\"}}}}}}}}}},\\\"/queryredshift\\\":{\\\"get\\\":{\\\"summary\\\":\\\"API to send query to the redshift database table\\\",\\\"description\\\":\\\"Send a query to the database table to retrieve information pertaining to the users question. The API takes in only one SQL query at a time, sends the SQL statement and returns the query results from the table. This API should be called for each SQL query to a database table.\\\",\\\"operationId\\\":\\\"queryredshift\\\",\\\"parameters\\\":[{\\\"name\\\":\\\"query\\\",\\\"in\\\":\\\"query\\\",\\\"required\\\":true,\\\"schema\\\":{\\\"type\\\":\\\"string\\\"},\\\"description\\\":\\\"SQL statement to query database table.\\\"}],\\\"responses\\\":{\\\"200\\\":{\\\"description\\\":\\\"Query sent successfully\\\",\\\"content\\\":{\\\"application/json\\\":{\\\"schema\\\":{\\\"type\\\":\\\"object\\\",\\\"properties\\\":{\\\"responseBody\\\":{\\\"type\\\":\\\"string\\\",\\\"description\\\":\\\"The query response from the database.\\\"}}}}}},\\\"400\\\":{\\\"description\\\":\\\"Bad request. One or more required fields are missing or invalid.\\\"}}}},\\\"/refinesql\\\":{\\\"get\\\":{\\\"summary\\\":\\\"Evaluate SQL query efficiency\\\",\\\"description\\\":\\\"Evaluate the efficiency of an SQL query based on the provided schema, query, and question.\\\",\\\"operationId\\\":\\\"refinesql\\\",\\\"parameters\\\":[{\\\"name\\\":\\\"sql\\\",\\\"in\\\":\\\"query\\\",\\\"required\\\":true,\\\"schema\\\":{\\\"type\\\":\\\"string\\\"},\\\"description\\\":\\\"The SQL query to evaluate.\\\"},{\\\"name\\\":\\\"question\\\",\\\"in\\\":\\\"query\\\",\\\"required\\\":true,\\\"schema\\\":{\\\"type\\\":\\\"string\\\"},\\\"description\\\":\\\"The question related to the rationale of the specific step.\\\"}],\\\"responses\\\":{\\\"200\\\":{\\\"description\\\":\\\"Successful response\\\",\\\"content\\\":{\\\"application/json\\\":{\\\"schema\\\":{\\\"type\\\":\\\"object\\\",\\\"properties\\\":{\\\"evaluatedQuery\\\":{\\\"type\\\":\\\"string\\\",\\\"description\\\":\\\"The evaluated SQL query, or the original query if it is efficient.\\\"}}}}}},\\\"400\\\":{\\\"description\\\":\\\"Bad request. One or more required fields are missing or invalid.\\\"}}}}}}\"\n",
    "api_schema = {\"payload\": api_schema_string}"
   ]
  },
  {
   "cell_type": "markdown",
   "id": "7a7bc55a-fe45-49ce-8d31-82af737b232f",
   "metadata": {},
   "source": [
    "#### Attach Lambda function and create sqlAction Group for agent\n",
    "Note: This uses the default Lambda function name \"biomarker-agent-env1\", this could be different in your account so double-check that this function exists and if not change the lambda_function_name in the code below"
   ]
  },
  {
   "cell_type": "code",
   "execution_count": null,
   "id": "261ca270-457b-4139-8c31-c27b5e9a0223",
   "metadata": {},
   "outputs": [],
   "source": [
    "# Define Lambda func. details\n",
    "redshift_lambda_function_name = \"biomarker-agent-env1\"  # Change if different in your account\n",
    "redshift_lambda_function_arn = f\"arn:aws:lambda:{region}:{account_id}:function:{redshift_lambda_function_name}\"\n",
    "\n",
    "agents.add_action_group_with_lambda(\n",
    "    agent_name=agent_name,\n",
    "    lambda_function_name=redshift_lambda_function_name,\n",
    "    source_code_file=f\"arn:aws:lambda:{region}:{account_id}:function:{redshift_lambda_function_name}\",\n",
    "    agent_action_group_name=\"sqlActionGroup\",\n",
    "    agent_action_group_description=\"Action for getting the database schema and querying the database\",\n",
    "    api_schema=api_schema,\n",
    "    verbose=True\n",
    ")"
   ]
  },
  {
   "cell_type": "markdown",
   "id": "0946e52e-7388-423a-bb48-d092e47ae04f",
   "metadata": {},
   "source": [
    "#### Add resource based policy to Lambda function to allow agent to invoke"
   ]
  },
  {
   "cell_type": "code",
   "execution_count": null,
   "id": "4b921dca-5354-47fb-b325-54f84ff8338e",
   "metadata": {},
   "outputs": [],
   "source": [
    "# Define the resource policy statement\n",
    "policy_statement = {\n",
    "    \"Sid\": \"AllowBedrockAgentAccess\",\n",
    "    \"Effect\": \"Allow\",\n",
    "    \"Principal\": {\n",
    "        \"Service\": \"bedrock.amazonaws.com\"\n",
    "    },\n",
    "    \"Action\": \"lambda:InvokeFunction\",\n",
    "    \"Resource\": redshift_lambda_function_arn,\n",
    "    \"Condition\": {\n",
    "        \"ArnEquals\": {\n",
    "            \"aws:SourceArn\": redshift_agent_arn\n",
    "        }\n",
    "    }\n",
    "}\n",
    "\n",
    "try:\n",
    "    # Get the current policy\n",
    "    response = lambda_client.get_policy(FunctionName=redshift_lambda_function_arn)\n",
    "    current_policy = json.loads(response['Policy'])\n",
    "    \n",
    "    # Add the new statement to the existing policy\n",
    "    current_policy['Statement'].append(policy_statement)\n",
    "    \n",
    "except lambda_client.exceptions.ResourceNotFoundException:\n",
    "    # If there's no existing policy, create a new one\n",
    "    current_policy = {\n",
    "        \"Version\": \"2012-10-17\",\n",
    "        \"Statement\": [policy_statement]\n",
    "    }\n",
    "\n",
    "# Convert the policy to JSON string\n",
    "updated_policy = json.dumps(current_policy)\n",
    "\n",
    "# Add or update the resource policy\n",
    "response = lambda_client.add_permission(\n",
    "    FunctionName=redshift_lambda_function_arn,\n",
    "    StatementId=\"AllowRedshiftAgentAccess\",\n",
    "    Action=\"lambda:InvokeFunction\",\n",
    "    Principal=\"bedrock.amazonaws.com\",\n",
    "    SourceArn=redshift_agent_arn\n",
    ")\n",
    "\n",
    "print(\"Resource policy added successfully.\")\n",
    "print(\"Response:\", response)"
   ]
  },
  {
   "cell_type": "markdown",
   "id": "fba5a11b-6b9c-422e-9864-b107b26250b5",
   "metadata": {},
   "source": [
    "#### Invoke Redshift Agent Test Alias to see that it answers question properly"
   ]
  },
  {
   "cell_type": "code",
   "execution_count": null,
   "id": "1189336b-8b2a-44d6-9ac5-e3da84892a1f",
   "metadata": {},
   "outputs": [],
   "source": [
    "%%time\n",
    "\n",
    "session_id:str = str(uuid.uuid1())\n",
    "\n",
    "query = \"How many patients are current smokers?\"\n",
    "response = bedrock_agent_runtime_client.invoke_agent(\n",
    "      inputText=query,\n",
    "      agentId=redshift_agent_id,\n",
    "      agentAliasId=\"TSTALIASID\", \n",
    "      sessionId=session_id,\n",
    "      enableTrace=True, \n",
    "      endSession=False,\n",
    "      sessionState={}\n",
    ")\n",
    "\n",
    "print(\"Request sent to Agent:\\n{}\".format(response))\n",
    "print(\"====================\")\n",
    "print(\"Agent processing query now\")\n",
    "print(\"====================\")\n",
    "\n",
    "# Initialize an empty string to store the answer\n",
    "answer = \"\"\n",
    "\n",
    "# Iterate through the event stream\n",
    "for event in response['completion']:\n",
    "    # Check if the event is a 'chunk' event\n",
    "    if 'chunk' in event:\n",
    "        chunk_obj = event['chunk']\n",
    "        if 'bytes' in chunk_obj:\n",
    "            # Decode the bytes and append to the answer\n",
    "            chunk_data = chunk_obj['bytes'].decode('utf-8')\n",
    "            answer += chunk_data\n",
    "\n",
    "# Now 'answer' contains the full response from the agent\n",
    "print(\"Agent Answer: {}\".format(answer))\n",
    "print(\"====================\")"
   ]
  },
  {
   "cell_type": "markdown",
   "id": "4aaba0a2-816f-4573-84e5-ee83e2413eee",
   "metadata": {},
   "source": [
    "#### Now that agent has been tested via direct invoke, prepare it by creating alias so supervisor agent can interact with it"
   ]
  },
  {
   "cell_type": "code",
   "execution_count": null,
   "id": "2bb0b07a-e698-4353-812a-40a5c2b301b6",
   "metadata": {},
   "outputs": [],
   "source": [
    "redshift_agent_alias_id, redshift_agent_alias_arn = agents.create_agent_alias(\n",
    "    redshift_agent[0], 'v1'\n",
    ")\n",
    "redshift_agent_alias_id, redshift_agent_alias_arn"
   ]
  },
  {
   "cell_type": "markdown",
   "id": "366e96f8-fa27-408d-9f83-96de8a939cac",
   "metadata": {},
   "source": [
    "# Create Research Evidence Agent\n",
    "In this section we create the research evidence sub-agent"
   ]
  },
  {
   "cell_type": "markdown",
   "id": "d84f1b47-89ea-4714-9c89-d2670667fd55",
   "metadata": {},
   "source": [
    "#### Create Research Evidence Agent object"
   ]
  },
  {
   "cell_type": "code",
   "execution_count": null,
   "id": "6b74164e-0f70-4269-885f-07f68679ddef",
   "metadata": {},
   "outputs": [],
   "source": [
    "# Define key parameters for agent\n",
    "agent_name = \"Clinical-evidence-researcher\"\n",
    "agent_description = \"Research internal and external evidence\"\n",
    "agent_instruction = \"\"\"You are a medical research assistant AI specialized in summarizing internal and external evidence related to cancer biomarkers. Your primary task is to interpret user queries, gather internal and external evidence, and provide relevant medical insights based on the results. Use only the appropriate tools as required by the specific question. Follow these instructions carefully: 1. When querying PubMed: a. Summarize the findings of each relevant study with citations to the specific pubmed web link of the study b. The json output will include 'Link', 'Title', 'Summary'. c. Always return the Title and Link (for example, 'https://pubmed.ncbi.nlm.nih.gov/') of each study in your response.  2. For internal evidence, make use of the knowledge base to retrieve relevant information. Always provide citations to specific content chunks. 3. When providing your response: a. Start with a brief summary of your understanding of the user's query. b. Explain the steps you're taking to address the query. Ask for clarifications from the user if required. c. Separate the responses generated from internal evidence (knowledge base) and external evidence (PubMed api).  d. Conclude with a concise summary of the findings and their potential implications for medical research.\"\"\"\n",
    "\n",
    "# Instantiate agent\n",
    "research_evidence_agent = agents.create_agent(\n",
    "    agent_name,\n",
    "    agent_description,\n",
    "    agent_instruction,\n",
    "    agent_foundation_model,\n",
    "    code_interpretation=False,\n",
    "    verbose=False\n",
    ")\n",
    "\n",
    "research_evidence_agent"
   ]
  },
  {
   "cell_type": "markdown",
   "id": "7e1ca098-a86b-4c05-a285-56a0b1e3490d",
   "metadata": {},
   "source": [
    "#### Extract agent information needed for later"
   ]
  },
  {
   "cell_type": "code",
   "execution_count": null,
   "id": "a5b5a736-5a47-4683-9f5d-ff7489a94d9e",
   "metadata": {},
   "outputs": [],
   "source": [
    "research_evidence_agent_id = research_evidence_agent[0]\n",
    "research_evidence_agent_arn = f\"arn:aws:bedrock:{region}:{account_id}:agent/{research_evidence_agent_id}\"\n",
    "\n",
    "research_evidence_agent_id, research_evidence_agent_arn"
   ]
  },
  {
   "cell_type": "markdown",
   "id": "43c89afb-61b1-481a-b813-121446deafb7",
   "metadata": {},
   "source": [
    "#### Associate Knowledge Base with agent"
   ]
  },
  {
   "cell_type": "code",
   "execution_count": null,
   "id": "cdc1e36d-0749-46b0-aa1f-a5671ee43187",
   "metadata": {},
   "outputs": [],
   "source": [
    "agents.associate_kb_with_agent(\n",
    "    research_evidence_agent_id,\n",
    "    \"Literature evidence on Relationships between Molecular and Imaging Phenotypes with Prognostic Implications\", \n",
    "    ncbi_kb_id\n",
    ")"
   ]
  },
  {
   "cell_type": "markdown",
   "id": "b6969f70-d3fb-4869-a324-8a824059b1ff",
   "metadata": {},
   "source": [
    "#### Define the API Schema needed for the ActionGroup"
   ]
  },
  {
   "cell_type": "code",
   "execution_count": null,
   "id": "a53bbae5-46d2-4d73-a7fa-4ed419039272",
   "metadata": {},
   "outputs": [],
   "source": [
    "api_schema_string = \"{\\\"openapi\\\":\\\"3.0.0\\\",\\\"info\\\":{\\\"title\\\":\\\"fetch biomedical literature\\\",\\\"version\\\":\\\"1.0.0\\\",\\\"description\\\":\\\"PubMed API to help answer users question using abstracts from biomedical literature.\\\"},\\\"paths\\\":{\\\"/query-pubmed\\\":{\\\"post\\\":{\\\"summary\\\":\\\"Query pubmed to relevant information from abstracts of biomedical articles.\\\",\\\"description\\\":\\\"Query pubmed to relevant information from abstracts of biomedical articles. The PubMed API takes in the user query then returns the abstracts of top 5 relevant articles.\\\",\\\"operationId\\\":\\\"query-pubmed\\\",\\\"parameters\\\":[{\\\"name\\\":\\\"query\\\",\\\"in\\\":\\\"query\\\",\\\"description\\\":\\\"user query\\\",\\\"required\\\":true,\\\"schema\\\":{\\\"type\\\":\\\"string\\\"}}],\\\"responses\\\":{\\\"200\\\":{\\\"description\\\":\\\"Query pubmed to relevant information from abstracts of biomedical articles.\\\",\\\"content\\\":{\\\"application/json\\\":{\\\"schema\\\":{\\\"type\\\":\\\"object\\\",\\\"properties\\\":{\\\"answer\\\":{\\\"type\\\":\\\"string\\\",\\\"description\\\":\\\"The response to user query with list of pubmed article abstracts.\\\"}}}}}}}}}}}\"\n",
    "api_schema = {\"payload\": api_schema_string}"
   ]
  },
  {
   "cell_type": "markdown",
   "id": "5c28e32a-a5f7-419c-b036-40b5ace90791",
   "metadata": {},
   "source": [
    "#### Attach Lambda function and create ActionGroup for agent\n",
    "Note: This uses the default Lambda function name \"PubMedQueryFunction\", this could be different in your account so double-check that this function exists and if not change the lambda_function_name in the code below"
   ]
  },
  {
   "cell_type": "code",
   "execution_count": null,
   "id": "4209d764-90dc-4a98-aa69-04f9ee5cf616",
   "metadata": {},
   "outputs": [],
   "source": [
    "# Define Lambda func. details\n",
    "research_evidence_lambda_function_name = \"PubMedQueryFunction\"\n",
    "research_evidence_lambda_function_arn = f\"arn:aws:lambda:{region}:{account_id}:function:{research_evidence_lambda_function_name}\"\n",
    "\n",
    "agents.add_action_group_with_lambda(\n",
    "    agent_name=agent_name,\n",
    "    lambda_function_name=research_evidence_lambda_function_name,\n",
    "    source_code_file=research_evidence_lambda_function_arn,\n",
    "    agent_action_group_name=\"queryPubMed\",\n",
    "    agent_action_group_description=\"Actions for fetching biomedical literature from PubMed\",\n",
    "    api_schema=api_schema,\n",
    "    verbose=True\n",
    ")"
   ]
  },
  {
   "cell_type": "markdown",
   "id": "7e168901-b227-469e-9efa-b3bccf902dce",
   "metadata": {},
   "source": [
    "#### Add resource based policy to Lambda function to allow agent to invoke"
   ]
  },
  {
   "cell_type": "code",
   "execution_count": null,
   "id": "55a71b1f-6ba5-4e0a-a597-3be1160f3ca3",
   "metadata": {},
   "outputs": [],
   "source": [
    "# Define the resource policy statement\n",
    "policy_statement = {\n",
    "    \"Sid\": \"AllowBedrockAgentAccess\",\n",
    "    \"Effect\": \"Allow\",\n",
    "    \"Principal\": {\n",
    "        \"Service\": \"bedrock.amazonaws.com\"\n",
    "    },\n",
    "    \"Action\": \"lambda:InvokeFunction\",\n",
    "    \"Resource\": research_evidence_lambda_function_arn,\n",
    "    \"Condition\": {\n",
    "        \"ArnEquals\": {\n",
    "            \"aws:SourceArn\": research_evidence_agent_arn\n",
    "        }\n",
    "    }\n",
    "}\n",
    "\n",
    "try:\n",
    "    # Get the current policy\n",
    "    response = lambda_client.get_policy(FunctionName=research_evidence_lambda_function_arn)\n",
    "    current_policy = json.loads(response['Policy'])\n",
    "    \n",
    "    # Add the new statement to the existing policy\n",
    "    current_policy['Statement'].append(policy_statement)\n",
    "    \n",
    "except lambda_client.exceptions.ResourceNotFoundException:\n",
    "    # If there's no existing policy, create a new one\n",
    "    current_policy = {\n",
    "        \"Version\": \"2012-10-17\",\n",
    "        \"Statement\": [policy_statement]\n",
    "    }\n",
    "\n",
    "# Convert the policy to JSON string\n",
    "updated_policy = json.dumps(current_policy)\n",
    "\n",
    "# Add or update the resource policy\n",
    "response = lambda_client.add_permission(\n",
    "    FunctionName=research_evidence_lambda_function_arn,\n",
    "    StatementId=\"AllowResearchEvidenceAgentAccess\",\n",
    "    Action=\"lambda:InvokeFunction\",\n",
    "    Principal=\"bedrock.amazonaws.com\",\n",
    "    SourceArn=research_evidence_agent_arn\n",
    ")\n",
    "\n",
    "print(\"Resource policy added successfully.\")\n",
    "print(\"Response:\", response)"
   ]
  },
  {
   "cell_type": "markdown",
   "id": "e91e15d5-33cd-4efa-9a73-5504828e162f",
   "metadata": {},
   "source": [
    "#### Invoke Research Evidence Agent Test Alias to see that it answers question properly"
   ]
  },
  {
   "cell_type": "code",
   "execution_count": null,
   "id": "58c7877d-713b-46da-81b6-ad096f5503ce",
   "metadata": {},
   "outputs": [],
   "source": [
    "session_id:str = str(uuid.uuid1())\n",
    "\n",
    "test_query = \"Can you search PubMed for evidence around the effects of biomarker use in oncology on clinical trial failure risk\"\n",
    "response = bedrock_agent_runtime_client.invoke_agent(\n",
    "      inputText=test_query,\n",
    "      agentId=research_evidence_agent_id,\n",
    "      agentAliasId=\"TSTALIASID\", \n",
    "      sessionId=session_id,\n",
    "      enableTrace=True, \n",
    "      endSession=False,\n",
    "      sessionState={}\n",
    ")\n",
    "\n",
    "print(\"Request sent to Agent:\\n{}\".format(response))\n",
    "print(\"====================\")\n",
    "print(\"Agent processing query now\")\n",
    "print(\"====================\")\n",
    "\n",
    "# Initialize an empty string to store the answer\n",
    "answer = \"\"\n",
    "\n",
    "# Iterate through the event stream\n",
    "for event in response['completion']:\n",
    "    # Check if the event is a 'chunk' event\n",
    "    if 'chunk' in event:\n",
    "        chunk_obj = event['chunk']\n",
    "        if 'bytes' in chunk_obj:\n",
    "            # Decode the bytes and append to the answer\n",
    "            chunk_data = chunk_obj['bytes'].decode('utf-8')\n",
    "            answer += chunk_data\n",
    "\n",
    "# Now 'answer' contains the full response from the agent\n",
    "print(\"Agent Answer: {}\".format(answer))\n",
    "print(\"====================\")"
   ]
  },
  {
   "cell_type": "markdown",
   "id": "6d17b5d7-9e94-417d-9eb2-f2a72123e744",
   "metadata": {},
   "source": [
    "#### Now that agent has been tested via direct invoke, prepare it by creating alias so supervisor agent can interact with it"
   ]
  },
  {
   "cell_type": "code",
   "execution_count": null,
   "id": "5d798bf7-f6ce-420c-b2d0-77797c4f715f",
   "metadata": {},
   "outputs": [],
   "source": [
    "research_evidence_agent_alias_id, research_evidence_agent_alias_arn = agents.create_agent_alias(\n",
    "    research_evidence_agent[0], 'v1'\n",
    ")\n",
    "\n",
    "research_evidence_agent_alias_id, research_evidence_agent_alias_arn"
   ]
  },
  {
   "cell_type": "markdown",
   "id": "1a293251-3255-4006-8c76-daa8239a5b4c",
   "metadata": {},
   "source": [
    "# Create Medical Imaging Agent\n",
    "In this section we create the medical imaging sub-agent"
   ]
  },
  {
   "cell_type": "markdown",
   "id": "220c4c87-c4e5-41ae-9c7e-04229e9b61ac",
   "metadata": {},
   "source": [
    "#### Create Medical Imaging Agent object"
   ]
  },
  {
   "cell_type": "code",
   "execution_count": null,
   "id": "bd5b3a2a-91a7-4ec9-b5de-6a0641e1d736",
   "metadata": {},
   "outputs": [],
   "source": [
    "# Define key parameters for agent\n",
    "agent_name = 'Medical-imaging-expert'\n",
    "agent_description = \"CT scan analysis\"\n",
    "agent_instruction = \"\"\"You are a medical research assistant AI specialized in processing medical imaging scans of patients. Your primary task is to create medical imaging jobs, or provide relevant medical insights after the jobs have completed execution. Use only the appropriate tools as required by the specific question. Follow these instructions carefully: 1. For computed tomographic (CT) lung imaging biomarker analysis: a. Identify the patient subject ID(s) based on the conversation. b. Use the compute_imaging_biomarker tool to trigger the long-running job, passing the subject ID(s) as an array of strings (for example, [\"R01-043\", \"R01-93\"]). c. Only if specifically asked for an analysis, use the analyze_imaging_biomarker tool to process the results from the previous job. 2. When providing your response: a. Start with a brief summary of your understanding of the user's query. b. Explain the steps you're taking to address the query. Ask for clarifications from the user if required. c. Present the results of the medical imaging jobs if complete.\"\"\" \n",
    "\n",
    "# Instantiate agent\n",
    "medical_imaging_agent = agents.create_agent(\n",
    "    agent_name,\n",
    "    agent_description,\n",
    "    agent_instruction,\n",
    "    agent_foundation_model,\n",
    "    code_interpretation=False,\n",
    "    verbose=False\n",
    ")\n",
    "\n",
    "medical_imaging_agent"
   ]
  },
  {
   "cell_type": "markdown",
   "id": "644246df-4d45-4bce-9227-9cad2d9347f8",
   "metadata": {},
   "source": [
    "#### Extract agent information needed for later"
   ]
  },
  {
   "cell_type": "code",
   "execution_count": null,
   "id": "84e5fd9a-de1e-44eb-a6a6-cdb785eaaa91",
   "metadata": {},
   "outputs": [],
   "source": [
    "medical_imaging_agent_id = medical_imaging_agent[0]\n",
    "medical_imaging_agent_arn = f\"arn:aws:bedrock:{region}:{account_id}:agent/{medical_imaging_agent_id}\"\n",
    "\n",
    "medical_imaging_agent_id, medical_imaging_agent_arn"
   ]
  },
  {
   "cell_type": "markdown",
   "id": "69dc036b-e708-4130-80f2-0582132ee481",
   "metadata": {},
   "source": [
    "#### Define function details for ActionGroup"
   ]
  },
  {
   "cell_type": "code",
   "execution_count": null,
   "id": "eef04d0f-c8d8-4122-86b1-b98519096dce",
   "metadata": {},
   "outputs": [],
   "source": [
    "function_defs = [\n",
    "    {\n",
    "      \"name\": \"compute_imaging_biomarker\",\n",
    "      \"description\": \"compute the imaging biomarker features from lung CT scans within the tumor for a list of patient subject IDs\",\n",
    "      \"parameters\": {\n",
    "        \"subject_id\": {\n",
    "          \"description\": \"an array of strings representing patient subject IDs, example ['R01-222', 'R01-333']\",\n",
    "          \"required\": True,\n",
    "          \"type\": \"array\"\n",
    "        }\n",
    "      },\n",
    "      \"requireConfirmation\": \"DISABLED\"\n",
    "    },\n",
    "    {\n",
    "      \"name\": \"analyze_imaging_biomarker\",\n",
    "      \"description\": \"analyze the result imaging biomarker features from lung CT scans within the tumor for a list of patient subject ID\",\n",
    "      \"parameters\": {\n",
    "        \"subject_id\": {\n",
    "          \"description\": \"an array of strings representing patient subject IDs, example ['R01-222', 'R01-333']\",\n",
    "          \"required\": True,\n",
    "          \"type\": \"array\"\n",
    "        }\n",
    "      },\n",
    "      \"requireConfirmation\": \"DISABLED\"\n",
    "    }\n",
    "]"
   ]
  },
  {
   "cell_type": "markdown",
   "id": "d72dfec2-0513-4cdc-9ff5-a01d55cc3d29",
   "metadata": {},
   "source": [
    "#### Attach Lambda function and create ActionGroup for agent\n",
    "Note: This uses the default Lambda function name \"imaging-biomarker-lambda\", this could be different in your account so double-check that this function exists and if not change the lambda_function_name in the code below"
   ]
  },
  {
   "cell_type": "code",
   "execution_count": null,
   "id": "db4e4cfd-7669-48c3-9d86-ae0618f36407",
   "metadata": {},
   "outputs": [],
   "source": [
    "# Define Lambda func. details, hardcode Lambda function name\n",
    "medical_imaging_lambda_function_name = \"imaging-biomarker-lambda\"  # Change if different in your account\n",
    "medical_imaging_lambda_function_arn = f\"arn:aws:lambda:{region}:{account_id}:function:{medical_imaging_lambda_function_name}\"\n",
    "\n",
    "agents.add_action_group_with_lambda(\n",
    "    agent_name=agent_name,\n",
    "    lambda_function_name=medical_imaging_lambda_function_name,\n",
    "    source_code_file=medical_imaging_lambda_function_arn,\n",
    "    agent_action_group_name=\"imagingBiomarkerProcessing\",\n",
    "    agent_action_group_description=\"Actions for processing imaging biomarker within CT scans for a list of subjects\",\n",
    "    agent_functions=function_defs,\n",
    "    verbose=True\n",
    ")"
   ]
  },
  {
   "cell_type": "markdown",
   "id": "cc76311b-d478-4e0e-893f-af781d47dac5",
   "metadata": {},
   "source": [
    "#### Add resource based policy to Lambda function to allow agent to invoke"
   ]
  },
  {
   "cell_type": "code",
   "execution_count": null,
   "id": "6295b812-7ce4-47e6-94d1-25b279c1194b",
   "metadata": {},
   "outputs": [],
   "source": [
    "# Define the resource policy statement\n",
    "policy_statement = {\n",
    "    \"Sid\": \"AllowBedrockAgentAccess\",\n",
    "    \"Effect\": \"Allow\",\n",
    "    \"Principal\": {\n",
    "        \"Service\": \"bedrock.amazonaws.com\"\n",
    "    },\n",
    "    \"Action\": \"lambda:InvokeFunction\",\n",
    "    \"Resource\": medical_imaging_lambda_function_arn,\n",
    "    \"Condition\": {\n",
    "        \"ArnEquals\": {\n",
    "            \"aws:SourceArn\": medical_imaging_agent_arn\n",
    "        }\n",
    "    }\n",
    "}\n",
    "\n",
    "try:\n",
    "    # Get the current policy\n",
    "    response = lambda_client.get_policy(FunctionName=medical_imaging_lambda_function_arn)\n",
    "    current_policy = json.loads(response['Policy'])\n",
    "    \n",
    "    # Add the new statement to the existing policy\n",
    "    current_policy['Statement'].append(policy_statement)\n",
    "    \n",
    "except lambda_client.exceptions.ResourceNotFoundException:\n",
    "    # If there's no existing policy, create a new one\n",
    "    current_policy = {\n",
    "        \"Version\": \"2012-10-17\",\n",
    "        \"Statement\": [policy_statement]\n",
    "    }\n",
    "\n",
    "# Convert the policy to JSON string\n",
    "updated_policy = json.dumps(current_policy)\n",
    "\n",
    "# Add or update the resource policy\n",
    "response = lambda_client.add_permission(\n",
    "    FunctionName=medical_imaging_lambda_function_arn,\n",
    "    StatementId=\"AllowMedicalImagingAgentAccess\",\n",
    "    Action=\"lambda:InvokeFunction\",\n",
    "    Principal=\"bedrock.amazonaws.com\",\n",
    "    SourceArn=medical_imaging_agent_arn\n",
    ")\n",
    "\n",
    "print(\"Resource policy added successfully.\")\n",
    "print(\"Response:\", response)"
   ]
  },
  {
   "cell_type": "markdown",
   "id": "dacbccdd-1a23-470c-b86c-0f7e71c65fab",
   "metadata": {},
   "source": [
    "#### Invoke Medical Imaging Agent Test Alias to see that it answers question properly\n",
    "Note: This agent needs a supervisor agent to properly answer some questions"
   ]
  },
  {
   "cell_type": "code",
   "execution_count": null,
   "id": "4d089797-b7ae-4144-9fbb-8d946b3acb8b",
   "metadata": {},
   "outputs": [],
   "source": [
    "session_id = str(uuid.uuid1())\n",
    "\n",
    "\n",
    "test_query = \"Can you compute the imaging biomarkers for the 2 patients with the lowest gdf15 expression values?\"\n",
    "\n",
    "response = bedrock_agent_runtime_client.invoke_agent(\n",
    "      inputText=test_query,\n",
    "      agentId=medical_imaging_agent_id,\n",
    "      agentAliasId=\"TSTALIASID\", \n",
    "      sessionId=session_id,\n",
    "      enableTrace=True, \n",
    "      endSession=False,\n",
    "      sessionState={}\n",
    ")\n",
    "\n",
    "print(\"Request sent to Agent:\\n{}\".format(response))\n",
    "print(\"====================\")\n",
    "print(\"Agent processing query now\")\n",
    "print(\"====================\")\n",
    "\n",
    "# Initialize an empty string to store the answer\n",
    "answer = \"\"\n",
    "\n",
    "# Iterate through the event stream\n",
    "for event in response['completion']:\n",
    "    # Check if the event is a 'chunk' event\n",
    "    if 'chunk' in event:\n",
    "        chunk_obj = event['chunk']\n",
    "        if 'bytes' in chunk_obj:\n",
    "            # Decode the bytes and append to the answer\n",
    "            chunk_data = chunk_obj['bytes'].decode('utf-8')\n",
    "            answer += chunk_data\n",
    "\n",
    "# Now 'answer' contains the full response from the agent\n",
    "print(\"Agent Answer: {}\".format(answer))\n",
    "print(\"====================\")"
   ]
  },
  {
   "cell_type": "markdown",
   "id": "b335d73d-ab44-4512-8fa2-f5f6afba1c34",
   "metadata": {},
   "source": [
    "#### Once agent has been tested, PREPARE it to create alias so supervisor agent can interact with it"
   ]
  },
  {
   "cell_type": "code",
   "execution_count": null,
   "id": "10eb4b73-bb88-4ba9-8398-1549c2018660",
   "metadata": {},
   "outputs": [],
   "source": [
    "medical_imaging_agent_alias_id, medical_imaging_agent_alias_arn = agents.create_agent_alias(\n",
    "    medical_imaging_agent[0], 'v1'\n",
    ")\n",
    "\n",
    "medical_imaging_agent_alias_id, medical_imaging_agent_alias_arn"
   ]
  },
  {
   "cell_type": "markdown",
   "id": "e33e8112-efe9-4ed4-b0cd-a8a8823a0fe9",
   "metadata": {},
   "source": [
    "# Create Scientific Analysis Agent\n",
    "In this section we create the scientific analysis sub-agent"
   ]
  },
  {
   "cell_type": "markdown",
   "id": "d0a21e4e-f1bd-413f-a357-f1e0f317324f",
   "metadata": {},
   "source": [
    "#### Create Scientific Analysis Agent object"
   ]
  },
  {
   "cell_type": "code",
   "execution_count": null,
   "id": "ab18055f-0b4c-45a4-babd-5ee8e5dcf380",
   "metadata": {},
   "outputs": [],
   "source": [
    "# Define key parameters for agent\n",
    "agent_name = 'Statistician'\n",
    "agent_description = \"scientific analysis for survival analysis\"\n",
    "agent_instruction = \"\"\"You are a medical research assistant AI specialized in survival analysis with biomarkers. Your primary job is to interpret user queries, run scientific analysis tasks, and provide relevant medical insights with available visualization tools. Use only the appropriate tools as required by the specific question. Follow these instructions carefully: 1. If the user query requires a Kaplan-Meier chart: a. Map survival status as 0 for Alive and 1 for Dead for the event parameter. b. Use survival duration as the duration parameter. c. Use the /group_survival_data tool to create baseline and condition group based on expression value threshold provided by the user. 2. If a survival regression analysis is needed: a. You need access to all records with columns start with survival status as first column, then survival duration, and the required biomarkers. b. Use the /fit_survival_regression tool to identify the best-performing biomarker based on the p-value summary. c. Ask for S3 data location if not provided, do not assume S3 bucket names or object names. 3. When you need to create a bar chart or plot: a. Always pass x_values and y_values in Array type to the function. If the user says x values are apple,egg and y values are 3,4 or as [apple,egg] and [3,4] pass their value as ['apple', 'banana'] and [3,4] 4. When providing your response: a. Start with a brief summary of your understanding of the user's query. b. Explain the steps you're taking to address the query. Ask for clarifications from the user if required. c. If you generate any charts or perform statistical analyses, explain their significance in the context of the user's query. d. Conclude with a concise summary of the findings and their potential implications for medical research. e. Make sure to explain any medical or statistical concepts in a clear, accessible manner.\"\"\" \n",
    "\n",
    "# Instantiate agent\n",
    "scientific_analysis_agent = agents.create_agent(\n",
    "    agent_name,\n",
    "    agent_description,\n",
    "    agent_instruction,\n",
    "    agent_foundation_model,\n",
    "    code_interpretation=False,\n",
    "    verbose=False\n",
    ")\n",
    "\n",
    "scientific_analysis_agent"
   ]
  },
  {
   "cell_type": "markdown",
   "id": "36231e37-e86d-403b-bf3e-2a91da8e9ca3",
   "metadata": {},
   "source": [
    "#### Extract agent information needed for later"
   ]
  },
  {
   "cell_type": "code",
   "execution_count": null,
   "id": "16b81331-8d03-4671-b296-367a276aa023",
   "metadata": {},
   "outputs": [],
   "source": [
    "scientific_analysis_agent_id = scientific_analysis_agent[0]\n",
    "scientific_analysis_agent_arn = f\"arn:aws:bedrock:{region}:{account_id}:agent/{scientific_analysis_agent_id}\"\n",
    "\n",
    "scientific_analysis_agent_id, scientific_analysis_agent_arn"
   ]
  },
  {
   "cell_type": "markdown",
   "id": "0e83ad2a-8179-47d6-aaf8-31634887a520",
   "metadata": {},
   "source": [
    "#### Define functions for first ActionGroup"
   ]
  },
  {
   "cell_type": "code",
   "execution_count": null,
   "id": "63111e9c-e7db-497a-b426-4a4acde7c16b",
   "metadata": {},
   "outputs": [],
   "source": [
    "function_defs = [\n",
    "    {\n",
    "      \"name\": \"bar_chart\",\n",
    "      \"description\": \"create a bar chart\",\n",
    "      \"parameters\": {\n",
    "        \"title\": {\n",
    "          \"description\": \"title of the bar chart\",\n",
    "          \"required\": True,\n",
    "          \"type\": \"string\"\n",
    "        },\n",
    "        \"x_label\": {\n",
    "          \"description\": \"title of the x axis\",\n",
    "          \"required\": True,\n",
    "          \"type\": \"string\"\n",
    "        },\n",
    "        \"x_values\": {\n",
    "          \"description\": \"values for the x a xis\",\n",
    "          \"required\": True,\n",
    "          \"type\": \"array\"\n",
    "        },\n",
    "        \"y_label\": {\n",
    "          \"description\": \"title of the y axis\",\n",
    "          \"required\": True,\n",
    "          \"type\": \"string\"\n",
    "        },\n",
    "        \"y_values\": {\n",
    "          \"description\": \"values for the y axis\",\n",
    "          \"required\": True,\n",
    "          \"type\": \"array\"\n",
    "        }\n",
    "      },\n",
    "      \"requireConfirmation\": \"DISABLED\"\n",
    "    },\n",
    "]"
   ]
  },
  {
   "cell_type": "markdown",
   "id": "f5ba58e6-0e14-46e5-b71e-c88cb42f11c7",
   "metadata": {},
   "source": [
    "#### Attach Lambda function and create first ActionGroup for agent\n",
    "Note: This uses the default Lambda function name \"MatPlotBarChartLambda\", this could be different in your account so double-check that this function exists and if not change the lambda_function_name in the code below"
   ]
  },
  {
   "cell_type": "code",
   "execution_count": null,
   "id": "f657e214-02ba-40d8-b7b0-ea31f5673263",
   "metadata": {},
   "outputs": [],
   "source": [
    "# Define Lambda func. details\n",
    "scientific_analysis_lambda_function_name_1 = \"MatPlotBarChartLambda\"  # Change if different in your acccount\n",
    "scientific_analysis_lambda_function_arn_1 = f\"arn:aws:lambda:{region}:{account_id}:function:{scientific_analysis_lambda_function_name_1}\"\n",
    "\n",
    "agents.add_action_group_with_lambda(\n",
    "    agent_name=agent_name,\n",
    "    lambda_function_name=scientific_analysis_lambda_function_name_1,\n",
    "    source_code_file=scientific_analysis_lambda_function_arn_1,\n",
    "    agent_action_group_name=\"matplotbarchart\",\n",
    "    agent_action_group_description=\"Creates a bar chart from the given input values\",\n",
    "    agent_functions=function_defs,\n",
    "    verbose=True\n",
    ")"
   ]
  },
  {
   "cell_type": "markdown",
   "id": "6844f554-5c3d-4741-938d-7839c09fc311",
   "metadata": {},
   "source": [
    "#### Add resource based policy to Lambda function to allow agent to invoke"
   ]
  },
  {
   "cell_type": "code",
   "execution_count": null,
   "id": "3d1745c2-f1ff-4ce0-9404-7723c244ebfe",
   "metadata": {},
   "outputs": [],
   "source": [
    "# Define the resource policy statement\n",
    "policy_statement = {\n",
    "    \"Sid\": \"AllowBedrockAgentAccess\",\n",
    "    \"Effect\": \"Allow\",\n",
    "    \"Principal\": {\n",
    "        \"Service\": \"bedrock.amazonaws.com\"\n",
    "    },\n",
    "    \"Action\": \"lambda:InvokeFunction\",\n",
    "    \"Resource\": scientific_analysis_lambda_function_arn_1,\n",
    "    \"Condition\": {\n",
    "        \"ArnEquals\": {\n",
    "            \"aws:SourceArn\": scientific_analysis_agent_arn\n",
    "        }\n",
    "    }\n",
    "}\n",
    "\n",
    "try:\n",
    "    # Get the current policy\n",
    "    response = lambda_client.get_policy(FunctionName=scientific_analysis_lambda_function_arn_1)\n",
    "    current_policy = json.loads(response['Policy'])\n",
    "    \n",
    "    # Add the new statement to the existing policy\n",
    "    current_policy['Statement'].append(policy_statement)\n",
    "    \n",
    "except lambda_client.exceptions.ResourceNotFoundException:\n",
    "    # If there's no existing policy, create a new one\n",
    "    current_policy = {\n",
    "        \"Version\": \"2012-10-17\",\n",
    "        \"Statement\": [policy_statement]\n",
    "    }\n",
    "\n",
    "# Convert the policy to JSON string\n",
    "updated_policy = json.dumps(current_policy)\n",
    "\n",
    "# Add or update the resource policy\n",
    "response = lambda_client.add_permission(\n",
    "    FunctionName=scientific_analysis_lambda_function_arn_1,\n",
    "    StatementId=\"AllowScientificAnalysisAgentAccess\",\n",
    "    Action=\"lambda:InvokeFunction\",\n",
    "    Principal=\"bedrock.amazonaws.com\",\n",
    "    SourceArn=scientific_analysis_agent_arn\n",
    ")\n",
    "\n",
    "print(\"Resource policy added successfully.\")\n",
    "print(\"Response:\", response)"
   ]
  },
  {
   "cell_type": "markdown",
   "id": "b5a12951-8989-4771-8347-f1d65cf008c0",
   "metadata": {},
   "source": [
    "#### Define functions for second ActionGroup"
   ]
  },
  {
   "cell_type": "code",
   "execution_count": null,
   "id": "6482d826-c5bc-4716-be6c-9a3a05303f01",
   "metadata": {},
   "outputs": [],
   "source": [
    "function_defs = [\n",
    "    {\n",
    "      \"name\": \"plot_kaplan_meier\",\n",
    "      \"description\": \"Plots a Kaplan-Meier survival chart\",\n",
    "      \"parameters\": {\n",
    "        \"biomarker_name\": {\n",
    "          \"description\": \"name of the biomarker\",\n",
    "          \"required\": True,\n",
    "          \"type\": \"string\"\n",
    "        },\n",
    "        \"duration_baseline\": {\n",
    "          \"description\": \"duration in number of days for baseline\",\n",
    "          \"required\": True,\n",
    "          \"type\": \"array\"\n",
    "        },\n",
    "        \"duration_condition\": {\n",
    "          \"description\": \"duration in number of days for condition\",\n",
    "          \"required\": True,\n",
    "          \"type\": \"array\"\n",
    "        },\n",
    "        \"event_baseline\": {\n",
    "          \"description\": \"survival event for baseline\",\n",
    "          \"required\": True,\n",
    "          \"type\": \"array\"\n",
    "        },\n",
    "        \"event_condition\": {\n",
    "          \"description\": \"survival event for condition\",\n",
    "          \"required\": True,\n",
    "          \"type\": \"array\"\n",
    "        }\n",
    "      },\n",
    "      \"requireConfirmation\": \"DISABLED\"\n",
    "    },\n",
    "    {\n",
    "      \"name\": \"fit_survival_regression\",\n",
    "      \"description\": \"Fit a survival regression model with data in a S3 object\",\n",
    "      \"parameters\": {\n",
    "        \"bucket\": {\n",
    "          \"description\": \"s3 bucket where the data is stored by the database query tool\",\n",
    "          \"required\": True,\n",
    "          \"type\": \"string\"\n",
    "        },\n",
    "        \"key\": {\n",
    "          \"description\": \"json file name that is located in the s3 bucket and contains the data for fitting the model\",\n",
    "          \"required\": True,\n",
    "          \"type\": \"string\"\n",
    "        }\n",
    "      },\n",
    "      \"requireConfirmation\": \"DISABLED\"\n",
    "    }\n",
    "]"
   ]
  },
  {
   "cell_type": "markdown",
   "id": "2e21839d-7a52-4bf9-9fe6-1622c5b45a89",
   "metadata": {},
   "source": [
    "#### Attach Lambda function and create second Action Group for agent\n",
    "Note: This uses the default Lambda function name \"ScientificPlotLambda\", this could be different in your account so double-check that this function exists and if not change the lambda_function_name in the code below"
   ]
  },
  {
   "cell_type": "code",
   "execution_count": null,
   "id": "3ee82722-5ccb-4a20-bce3-209ebd45f2b9",
   "metadata": {},
   "outputs": [],
   "source": [
    "# Define Lambda func. details, hardcode Lambda function name\n",
    "scientific_analysis_lambda_function_name_2 = \"ScientificPlotLambda\"  # Change if different in your account\n",
    "scientific_analysis_lambda_function_arn_2 = f\"arn:aws:lambda:{region}:{account_id}:function:{scientific_analysis_lambda_function_name_2}\"\n",
    "\n",
    "agents.add_action_group_with_lambda(\n",
    "    agent_name=agent_name,\n",
    "    lambda_function_name=scientific_analysis_lambda_function_name_2,\n",
    "    source_code_file=scientific_analysis_lambda_function_arn_2,\n",
    "    agent_action_group_name=\"scientificAnalysisActionGroup\",\n",
    "    agent_action_group_description=\"Actions for scientific analysis with lifelines library\",\n",
    "    agent_functions=function_defs,\n",
    "    verbose=True\n",
    ")"
   ]
  },
  {
   "cell_type": "markdown",
   "id": "409694c0-9a48-4e8f-ab2f-914eead31475",
   "metadata": {},
   "source": [
    "#### Add resource based policy to Lambda function to allow agent to invoke"
   ]
  },
  {
   "cell_type": "code",
   "execution_count": null,
   "id": "0fbe77e9-73aa-4846-b9ef-b39a0d5ac1ca",
   "metadata": {},
   "outputs": [],
   "source": [
    "# Define the resource policy statement\n",
    "policy_statement = {\n",
    "    \"Sid\": \"AllowBedrockAgentAccess\",\n",
    "    \"Effect\": \"Allow\",\n",
    "    \"Principal\": {\n",
    "        \"Service\": \"bedrock.amazonaws.com\"\n",
    "    },\n",
    "    \"Action\": \"lambda:InvokeFunction\",\n",
    "    \"Resource\": scientific_analysis_lambda_function_arn_2,\n",
    "    \"Condition\": {\n",
    "        \"ArnEquals\": {\n",
    "            \"aws:SourceArn\": scientific_analysis_agent_arn\n",
    "        }\n",
    "    }\n",
    "}\n",
    "\n",
    "try:\n",
    "    # Get the current policy\n",
    "    response = lambda_client.get_policy(FunctionName=scientific_analysis_lambda_function_arn_2)\n",
    "    current_policy = json.loads(response['Policy'])\n",
    "    \n",
    "    # Add the new statement to the existing policy\n",
    "    current_policy['Statement'].append(policy_statement)\n",
    "    \n",
    "except lambda_client.exceptions.ResourceNotFoundException:\n",
    "    # If there's no existing policy, create a new one\n",
    "    current_policy = {\n",
    "        \"Version\": \"2012-10-17\",\n",
    "        \"Statement\": [policy_statement]\n",
    "    }\n",
    "\n",
    "# Convert the policy to JSON string\n",
    "updated_policy = json.dumps(current_policy)\n",
    "\n",
    "# Add or update the resource policy\n",
    "response = lambda_client.add_permission(\n",
    "    FunctionName=scientific_analysis_lambda_function_arn_2,\n",
    "    StatementId=\"AllowScientificAnalysisAgentAccess\",\n",
    "    Action=\"lambda:InvokeFunction\",\n",
    "    Principal=\"bedrock.amazonaws.com\",\n",
    "    SourceArn=scientific_analysis_agent_arn\n",
    ")\n",
    "\n",
    "print(\"Resource policy added successfully.\")\n",
    "print(\"Response:\", response)"
   ]
  },
  {
   "cell_type": "markdown",
   "id": "8397f8bc-df0c-452e-acdd-46f54ff55453",
   "metadata": {},
   "source": [
    "#### Invoke Scientific Analysis Agent Test Alias to see if responds to question\n",
    "Note: This agent needs a supervisor agent to properly answer some questions"
   ]
  },
  {
   "cell_type": "code",
   "execution_count": null,
   "id": "bb21a278-41b6-4892-917d-95b8f75236f4",
   "metadata": {},
   "outputs": [],
   "source": [
    "session_id = str(uuid.uuid1())\n",
    "\n",
    "test_query = \"What is the best gene biomarker (lowest p value) with overall survival for patients that have undergone chemotherapy?\"\n",
    "\n",
    "response = bedrock_agent_runtime_client.invoke_agent(\n",
    "      inputText=test_query,\n",
    "      agentId=scientific_analysis_agent_id,\n",
    "      agentAliasId=\"TSTALIASID\", \n",
    "      sessionId=session_id,\n",
    "      enableTrace=True, \n",
    "      endSession=False,\n",
    "      sessionState={}\n",
    ")\n",
    "\n",
    "print(\"Request sent to Agent:\\n{}\".format(response))\n",
    "print(\"====================\")\n",
    "print(\"Agent processing query now\")\n",
    "print(\"====================\")\n",
    "\n",
    "# Initialize an empty string to store the answer\n",
    "answer = \"\"\n",
    "\n",
    "# Iterate through the event stream\n",
    "for event in response['completion']:\n",
    "    # Check if the event is a 'chunk' event\n",
    "    if 'chunk' in event:\n",
    "        chunk_obj = event['chunk']\n",
    "        if 'bytes' in chunk_obj:\n",
    "            # Decode the bytes and append to the answer\n",
    "            chunk_data = chunk_obj['bytes'].decode('utf-8')\n",
    "            answer += chunk_data\n",
    "\n",
    "# Now 'answer' contains the full response from the agent\n",
    "print(\"Agent Answer: {}\".format(answer))\n",
    "print(\"====================\")"
   ]
  },
  {
   "cell_type": "markdown",
   "id": "699daafb-08dc-46e4-b3a5-05a758dad9fe",
   "metadata": {},
   "source": [
    "#### Now that agent has been tested via direct invoke, prepare it by creating alias so supervisor agent can interact with it"
   ]
  },
  {
   "cell_type": "code",
   "execution_count": null,
   "id": "4a9e8157-2e64-48ab-8d51-5d06ed27225f",
   "metadata": {},
   "outputs": [],
   "source": [
    "scientific_analysis_agent_alias_id, scientific_analysis_agent_alias_arn = agents.create_agent_alias(\n",
    "    scientific_analysis_agent[0], 'v1'\n",
    ")\n",
    "\n",
    "scientific_analysis_agent_alias_id, scientific_analysis_agent_alias_arn"
   ]
  },
  {
   "cell_type": "markdown",
   "id": "afb57608-5d13-438e-8132-0dc52f819487",
   "metadata": {},
   "source": [
    "# Create Biomarker Supervisor Agent\n",
    "In this section we create the biomarker supervisor agent that will interact with all the sub-agents created previously"
   ]
  },
  {
   "cell_type": "markdown",
   "id": "76e110bb-7e4c-435e-afb3-c78fa9a8e93c",
   "metadata": {},
   "source": [
    "#### Create Biomarker Supervisor Agent object"
   ]
  },
  {
   "cell_type": "code",
   "execution_count": null,
   "id": "07ca5fb8-7ff9-444c-aed2-385e70234881",
   "metadata": {},
   "outputs": [],
   "source": [
    "# Define key parameters for agent\n",
    "agent_name = \"multi-agent-biomarker\"\n",
    "agent_description = \"Multi-agent collaboration for biomarker discovery\"\n",
    "agent_instruction = \"\"\"You are a medical research assistant AI specialized in cancer biomarker analysis and discovery. Your primary task is to interpret user queries, use relevant agents for specific tasks, and provide consolidated medical insights based on the data. Use only the appropriate agents as required by the specific question. You can provide responses from a prior agent to the next agent in sequence. To analyze patient biomarkers data, you can retrieve relevant records from the database. To find the p-value of biomarkers, a. You need to query and store all records including survival status, survival duration in years, and the required biomarkers and b. You need to fit a surival regression model with that data in S3.  When providing your response: a. Start with a brief summary of your understanding of the user's query. b. Explain the steps you're taking to address the query. Ask for clarifications from the user if required. c. Present the results of individual agents d. Conclude with a concise summary of the findings and their potential implications for medical research. Make sure to explain any medical or statistical concepts in a clear, accessible manner.\"\"\"\n",
    "\n",
    "supervisor_agent = agents.create_agent(\n",
    "    agent_name,\n",
    "    agent_description,\n",
    "    agent_instruction,\n",
    "    collaborator_agent_foundation_model,\n",
    "    agent_collaboration='SUPERVISOR',\n",
    "    code_interpretation=False,\n",
    "    verbose=False,\n",
    ")\n",
    "\n",
    "supervisor_agent"
   ]
  },
  {
   "cell_type": "markdown",
   "id": "c7d00018-0dfe-43af-a185-fdbe44bef285",
   "metadata": {},
   "source": [
    "#### Extract agent information needed for later"
   ]
  },
  {
   "cell_type": "code",
   "execution_count": null,
   "id": "82c7ada7-da9c-407a-82a3-63bc90e515a3",
   "metadata": {},
   "outputs": [],
   "source": [
    "supervisor_agent_id = supervisor_agent[0]\n",
    "supervisor_agent_id"
   ]
  },
  {
   "cell_type": "markdown",
   "id": "4efa0921-fb87-4e46-bcd9-e54fd437aeba",
   "metadata": {},
   "source": [
    "#### Define sub-agents that supervisor is to work with created earlier in notebook"
   ]
  },
  {
   "cell_type": "code",
   "execution_count": null,
   "id": "6412dd27-dfef-49e6-85df-f7571be8d278",
   "metadata": {},
   "outputs": [],
   "source": [
    "sub_agents_list = [\n",
    "    {\n",
    "        'sub_agent_alias_arn': redshift_agent_alias_arn,\n",
    "        'sub_agent_instruction': \"\"\"Use this agent specialized in generating and executing SQL queries for a database containing medical biomarker information. Its primary task is to interpret user queries, generate and execute appropriate SQL queries. \"\"\",\n",
    "        'sub_agent_association_name': 'BiomarkerDatabaseAnalyst',\n",
    "        'relay_conversation_history': 'TO_COLLABORATOR'\n",
    "    },\n",
    "    {\n",
    "        'sub_agent_alias_arn': research_evidence_agent_alias_arn,\n",
    "        'sub_agent_instruction': \"\"\"Use this agent specialized in summarizing internal and external evidence related to cancer biomarkers. Its primary task is to interpret user queries, gather internal and external evidence, and provide relevant medical insights based on the results. \"\"\",\n",
    "        'sub_agent_association_name': 'ClincialEvidenceResearcher',\n",
    "        'relay_conversation_history': 'TO_COLLABORATOR'\n",
    "    },\n",
    "    {\n",
    "        'sub_agent_alias_arn': medical_imaging_agent_alias_arn,\n",
    "        'sub_agent_instruction': \"\"\"Use this agent specialized in processing medical imaging scans of patients. Its primary task is to create medical imaging jobs or provide relevant medical insights after jobs complete execution.  \"\"\",\n",
    "        'sub_agent_association_name': 'MedicalImagingExpert',\n",
    "        'relay_conversation_history': 'TO_COLLABORATOR'\n",
    "    },\n",
    "    {\n",
    "        'sub_agent_alias_arn': scientific_analysis_agent_alias_arn,\n",
    "        'sub_agent_instruction': \"\"\"Use this agent specialized in in survival analysis with biomarkers. Its primary job is to interpret user queries, run scientific analysis tasks, and provide relevant medical insights with available visualization tools.  \"\"\",\n",
    "        'sub_agent_association_name': 'Statistician',\n",
    "        'relay_conversation_history': 'TO_COLLABORATOR'\n",
    "    }\n",
    "]"
   ]
  },
  {
   "cell_type": "code",
   "execution_count": null,
   "id": "778bdd53-e5c9-4018-a698-f6ae84f0423f",
   "metadata": {},
   "outputs": [],
   "source": [
    "sub_agents_list"
   ]
  },
  {
   "cell_type": "markdown",
   "id": "fc770213-5495-4966-8298-599f0496deda",
   "metadata": {},
   "source": [
    "#### Associate sub-agents to supervisor, prepares supervisor agent"
   ]
  },
  {
   "cell_type": "code",
   "execution_count": null,
   "id": "a0e95370-e9b8-4621-9122-22998459fbd1",
   "metadata": {},
   "outputs": [],
   "source": [
    "supervisor_agent_alias_id, supervisor_agent_alias_arn = agents.associate_sub_agents(\n",
    "    supervisor_agent_id, sub_agents_list\n",
    ")\n",
    "supervisor_agent_alias_id, supervisor_agent_alias_arn"
   ]
  },
  {
   "cell_type": "markdown",
   "id": "4e399975-e9fa-4875-a732-3364c7e78701",
   "metadata": {},
   "source": [
    "#### Update SSM Parameter store so that Streamlit App uses new Biomarker Supervisor Agent"
   ]
  },
  {
   "cell_type": "code",
   "execution_count": null,
   "id": "5f40474a-8ca3-4229-bd79-e36ba80de5e6",
   "metadata": {},
   "outputs": [],
   "source": [
    "# Update AGENT_ID for Streamlit App\n",
    "ssm_client.put_parameter(\n",
    "    Name='/streamlitapp/env1/AGENT_ID',\n",
    "    Value=supervisor_agent_id,\n",
    "    Type='String',\n",
    "    Overwrite=True\n",
    ")\n",
    "\n",
    "# Update AGENT_ALIAS_ID for Streamlit App\n",
    "ssm_client.put_parameter(\n",
    "    Name='/streamlitapp/env1/AGENT_ALIAS_ID',\n",
    "    Value=supervisor_agent_alias_id,\n",
    "    Type='String',\n",
    "    Overwrite=True\n",
    ")"
   ]
  },
  {
   "cell_type": "markdown",
   "id": "e97a1422-e194-4b1f-8bb8-cf0f5a2d096c",
   "metadata": {},
   "source": [
    "## Ask supervisor agent different question types now that sub-agents are ready! ###"
   ]
  },
  {
   "cell_type": "code",
   "execution_count": null,
   "id": "0e6e84f8-496d-4e74-803d-90beffbfaf9b",
   "metadata": {},
   "outputs": [],
   "source": [
    "%%time\n",
    "\n",
    "session_id:str = str(uuid.uuid1())\n",
    "\n",
    "\n",
    "# ---------------------------- Sample Question Bank --------------------------------------------\n",
    "# Redshift Agent Questions\n",
    "redshift_agent_query_1 = \"How many patients are current smokers?\"\n",
    "\n",
    "# Research Evidence Agent Questions\n",
    "research_evidence_agent_query_1 = \"Can you search PubMed for evidence around the effects of biomarker use in oncology on clinical trial failure risk\"\n",
    "\n",
    "# Medical Imaging Agent Questions (must run in sequence)\n",
    "medical_imaging_agent_query_1 = \"Can you compute the imaging biomarkers for the 2 patients with the lowest gdf15 expression values?\"\n",
    "medical_imaging_agent_query_2 = \"Can you higlight the elongation and sphericity of the tumor with these patients. Can you depict images of them?\"\n",
    "\n",
    "medical_imaging_agent_query_3 = \"Can you compute the imaging biomarkers for the 2 patients with the lowest gdf15 expression values and then higlight the elongation and sphericity of the tumor with these patients?\"\n",
    "\n",
    "# Scientific Analysis Agent Questions\n",
    "scientific_analysis_agent_query_1 = \"What is the best gene biomarker (lowest p value) with overall survival for patients that have undergone chemotherapy, Generate a bar chart of the top 5 gene biomarkers based on their p value and include their names in the x axis.?\"\n",
    "# -----------------------------------------------------------------------------------------\n",
    "\n",
    "\n",
    "response = bedrock_agent_runtime_client.invoke_agent(\n",
    "      inputText=medical_imaging_agent_query_1, # Change value here to test different questions\n",
    "      agentId=supervisor_agent_id,\n",
    "      agentAliasId=supervisor_agent_alias_id, \n",
    "      sessionId=session_id,\n",
    "      enableTrace=True, \n",
    "      endSession=False,\n",
    "      sessionState={}\n",
    ")\n",
    "\n",
    "print(\"Request sent to Supervisor Agent:\\n{}\".format(response))\n",
    "print(\"====================\")\n",
    "print(\"Supervisor Agent processing query and collaborating with sub-agents to get answer\")\n",
    "print(\"====================\")\n",
    "\n",
    "# Initialize an empty string to store the answer\n",
    "answer = \"\"\n",
    "\n",
    "# Iterate through the event stream\n",
    "for event in response['completion']:\n",
    "    # Check if the event is a 'chunk' event\n",
    "    if 'chunk' in event:\n",
    "        chunk_obj = event['chunk']\n",
    "        if 'bytes' in chunk_obj:\n",
    "            # Decode the bytes and append to the answer\n",
    "            chunk_data = chunk_obj['bytes'].decode('utf-8')\n",
    "            answer += chunk_data\n",
    "\n",
    "# Now 'answer' contains the full response from the agent\n",
    "print(\"Agent Answer: {}\".format(answer))\n",
    "print(\"====================\")"
   ]
  },
  {
   "cell_type": "markdown",
   "id": "f847a152-07a7-429a-828f-85d442193aaf",
   "metadata": {},
   "source": [
    "## Now the Biomarker Supervisor Agent is ready to assist you!"
   ]
  },
  {
   "cell_type": "markdown",
   "id": "41e93a91-ecc3-4c56-8262-8a2399ba1019",
   "metadata": {},
   "source": [
    "# Destroy Agents\n",
    "In this section we destroy the agents created previously along any Lambda function resource policies"
   ]
  },
  {
   "cell_type": "markdown",
   "id": "095fd741-590b-447b-a0ee-6d9a096dec31",
   "metadata": {},
   "source": [
    "#### Destroy Supervisor Agent"
   ]
  },
  {
   "cell_type": "code",
   "execution_count": null,
   "id": "1179acbe-7754-4b7c-b9e9-edeb5cc398f5",
   "metadata": {},
   "outputs": [],
   "source": [
    "agents.delete_agent(\"multi-agent-biomarker\",delete_role_flag=False)"
   ]
  },
  {
   "cell_type": "markdown",
   "id": "2b563337-ee55-4586-8a9c-5acedc1999f7",
   "metadata": {},
   "source": [
    "#### Destroy Redshift Agent"
   ]
  },
  {
   "cell_type": "code",
   "execution_count": null,
   "id": "78fa0c3e-d5af-46af-a644-407540668d06",
   "metadata": {},
   "outputs": [],
   "source": [
    "agents.delete_agent(\"Biomarker-database-analyst\",delete_role_flag=False)\n",
    "\n",
    "delete_request = lambda_client.remove_permission(\n",
    "    FunctionName=redshift_lambda_function_arn,\n",
    "    StatementId=\"AllowRedshiftAgentAccess\"\n",
    ")\n",
    "print(\"Deleted resource-based policy statement for Lambda function {}\".format(redshift_lambda_function_arn))"
   ]
  },
  {
   "cell_type": "markdown",
   "id": "5469285c-e00d-4ef6-8bf5-74bc39418b74",
   "metadata": {},
   "source": [
    "#### Destroy Research Evidence Agent"
   ]
  },
  {
   "cell_type": "code",
   "execution_count": null,
   "id": "a2956229-8e0b-4c63-b499-9dab5a945663",
   "metadata": {},
   "outputs": [],
   "source": [
    "agents.delete_agent(\"Clinical-evidence-researcher\",delete_role_flag=False)\n",
    "\n",
    "delete_request = lambda_client.remove_permission(\n",
    "    FunctionName=research_evidence_lambda_function_arn,\n",
    "    StatementId=\"AllowResearchEvidenceAgentAccess\"\n",
    ")\n",
    "\n",
    "print(\"Deleted resource-based policy statement for Lambda function {}\".format(research_evidence_lambda_function_arn))"
   ]
  },
  {
   "cell_type": "markdown",
   "id": "0d04cba0-fb50-482e-9fd0-9510920631c0",
   "metadata": {},
   "source": [
    "#### Destroy Medical Imaging Agent"
   ]
  },
  {
   "cell_type": "code",
   "execution_count": null,
   "id": "03f24803-3eab-4e0f-866f-3652e14fad88",
   "metadata": {},
   "outputs": [],
   "source": [
    "agents.delete_agent(\"Medical-imaging-expert\",delete_role_flag=False)\n",
    "\n",
    "delete_request = lambda_client.remove_permission(\n",
    "    FunctionName=medical_imaging_lambda_function_arn,\n",
    "    StatementId=\"AllowMedicalImagingAgentAccess\"\n",
    ")\n",
    "\n",
    "print(\"Deleted resource-based policy statement for Lambda function {}\".format(medical_imaging_lambda_function_arn))"
   ]
  },
  {
   "cell_type": "markdown",
   "id": "45c0b594-7bd3-4f10-8fca-ffb56f5164d7",
   "metadata": {},
   "source": [
    "#### Destroy Scientific Analysis Agent"
   ]
  },
  {
   "cell_type": "code",
   "execution_count": null,
   "id": "b3de022a-962f-4703-af80-6b587369d044",
   "metadata": {},
   "outputs": [],
   "source": [
    "agents.delete_agent(\"Statistician\",delete_role_flag=False)\n",
    "\n",
    "delete_request_1 = lambda_client.remove_permission(\n",
    "    FunctionName=scientific_analysis_lambda_function_arn_1,\n",
    "    StatementId=\"AllowScientificAnalysisAgentAccess\"\n",
    ")\n",
    "print(\"Deleted resource-based policy statement for Lambda function {}\".format(scientific_analysis_lambda_function_arn_1))\n",
    "\n",
    "response = lambda_client.remove_permission(\n",
    "    FunctionName=scientific_analysis_lambda_function_arn_2,\n",
    "    StatementId=\"AllowScientificAnalysisAgentAccess\"\n",
    ")\n",
    "print(\"Deleted resource-based policy statement for Lambda function {}\".format(scientific_analysis_lambda_function_arn_2))"
   ]
  },
  {
   "cell_type": "code",
   "execution_count": null,
   "id": "a0b4284b-8158-4017-bcbf-e775c4d30bad",
   "metadata": {},
   "outputs": [],
   "source": []
  }
 ],
 "metadata": {
  "kernelspec": {
   "display_name": "conda_python3",
   "language": "python",
   "name": "conda_python3"
  },
  "language_info": {
   "codemirror_mode": {
    "name": "ipython",
    "version": 3
   },
   "file_extension": ".py",
   "mimetype": "text/x-python",
   "name": "python",
   "nbconvert_exporter": "python",
   "pygments_lexer": "ipython3",
   "version": "3.10.15"
  }
 },
 "nbformat": 4,
 "nbformat_minor": 5
}
