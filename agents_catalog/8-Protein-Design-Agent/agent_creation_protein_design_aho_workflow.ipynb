{
 "cells": [
  {
   "cell_type": "markdown",
   "metadata": {},
   "source": [
    "# Create Protein Design Agent with AWS HealthOmics Workflow Integration\n",
    "\n",
    "This notebook demonstrates how to create a Bedrock agent that can trigger AWS HealthOmics workflows for protein design optimization."
   ]
  },
  {
   "cell_type": "markdown",
   "metadata": {},
   "source": [
    "# Pre-requisites\n",
    "\n",
    "1. Go through the notebook environment setup in the agents_catalog/0-Notebook-environment/ folder\n",
    "\n",
    "2. Deploy protein_design_stack.yaml to your AWS account to instantiate a ECR repository with a custom Docker image, a AWS HealthOmics (AHO) private workflow, and a lambda function that invokes the AHO workflow\n"
   ]
  },
  {
   "cell_type": "markdown",
   "metadata": {},
   "source": [
    "### Steps for deploying the CloudFormation stack:\n",
    "1. Create a S3 bucket for storing required files in the same region as your cf stack\n",
    "2. Upload workflow definition files to S3\n",
    "3. Package and upload container code to S3\n",
    "4. Deploy the CloudFormation stack"
   ]
  },
  {
   "cell_type": "code",
   "execution_count": 33,
   "metadata": {},
   "outputs": [
    {
     "name": "stdout",
     "output_type": "stream",
     "text": [
      "Bucket hcls-bedrock-agents-byot-aho-20240416-west2 already exists\n",
      "CloudFormation parameters written to cf_parameters.json\n",
      "File path: /home/sagemaker-user/8-Protein-Design-Agent/cf_parameters.json\n",
      "Successfully created code.zip from container directory\n",
      "Uploaded main.nf to s3://hcls-bedrock-agents-byot-aho-20240416-west2/workflow/\n",
      "Uploaded nextflow.config to s3://hcls-bedrock-agents-byot-aho-20240416-west2/workflow/\n",
      "Uploaded config.yaml to s3://hcls-bedrock-agents-byot-aho-20240416-west2/workflow/\n",
      "Uploaded parameter-template.json to s3://hcls-bedrock-agents-byot-aho-20240416-west2/workflow/\n",
      "Uploaded code.zip to s3://hcls-bedrock-agents-byot-aho-20240416-west2/\n"
     ]
    }
   ],
   "source": [
    "import json\n",
    "import os\n",
    "import shutil\n",
    "import boto3\n",
    "import datetime\n",
    "\n",
    "\n",
    "# Function to create S3 bucket in specified region\n",
    "def create_s3_bucket(bucket_name, region):\n",
    "    \"\"\"\n",
    "    Create an S3 bucket in the specified region if it doesn't exist\n",
    "    \n",
    "    Parameters:\n",
    "    bucket_name (str): Name of the S3 bucket to create\n",
    "    region (str): AWS region where the bucket should be created\n",
    "    \n",
    "    Returns:\n",
    "    bool: True if bucket was created or already exists, False otherwise\n",
    "    \"\"\"\n",
    "    s3_client = boto3.client('s3', region_name=region)\n",
    "    \n",
    "    try:\n",
    "        # Check if bucket already exists\n",
    "        response = s3_client.head_bucket(Bucket=bucket_name)\n",
    "        print(f\"Bucket {bucket_name} already exists\")\n",
    "        return True\n",
    "    except Exception as e:\n",
    "        if \"404\" in str(e):\n",
    "            # Bucket doesn't exist, create it\n",
    "            try:\n",
    "                if region == 'us-east-1':\n",
    "                    # Special case for us-east-1 which doesn't accept LocationConstraint\n",
    "                    response = s3_client.create_bucket(\n",
    "                        Bucket=bucket_name\n",
    "                    )\n",
    "                else:\n",
    "                    response = s3_client.create_bucket(\n",
    "                        Bucket=bucket_name,\n",
    "                        CreateBucketConfiguration={\n",
    "                            'LocationConstraint': region\n",
    "                        }\n",
    "                    )\n",
    "                print(f\"Successfully created bucket {bucket_name} in {region}\")\n",
    "                return True\n",
    "            except Exception as create_error:\n",
    "                print(f\"Error creating bucket: {create_error}\")\n",
    "                return False\n",
    "        else:\n",
    "            print(f\"Error checking bucket: {e}\")\n",
    "            return False\n",
    "\n",
    "# Create zip file of container code\n",
    "def create_container_zip():\n",
    "    try:\n",
    "        shutil.make_archive('code', 'zip', 'container')\n",
    "        print(\"Successfully created code.zip from container directory\")\n",
    "    except Exception as e:\n",
    "        print(f\"Error creating zip file: {e}\")\n",
    "\n",
    "# Upload workflow files and container code to S3\n",
    "def upload_to_s3(bucket_name):\n",
    "    s3 = boto3.client('s3')\n",
    "    \n",
    "    # Upload workflow files\n",
    "    workflow_files = ['main.nf', 'nextflow.config', 'config.yaml', 'parameter-template.json']\n",
    "    for file in workflow_files:\n",
    "        try:\n",
    "            s3.upload_file(\n",
    "                f'aho_workflow/{file}', \n",
    "                bucket_name, \n",
    "                f'workflow/{file}'\n",
    "            )\n",
    "            print(f\"Uploaded {file} to s3://{bucket_name}/workflow/\")\n",
    "        except Exception as e:\n",
    "            print(f\"Error uploading {file}: {e}\")\n",
    "    \n",
    "    # Upload container code zip\n",
    "    try:\n",
    "        s3.upload_file(\n",
    "            'code.zip',\n",
    "            bucket_name,\n",
    "            'code.zip'\n",
    "        )\n",
    "        print(f\"Uploaded code.zip to s3://{bucket_name}/\")\n",
    "    except Exception as e:\n",
    "        print(f\"Error uploading code.zip: {e}\")\n",
    "\n",
    "# Define the CloudFormation parameters\n",
    "def write_cf_parameters(bucket_name):\n",
    "    '''Write the param JSON file for creating the cf stack'''\n",
    "    cf_parameters = [\n",
    "        {\n",
    "            \"ParameterKey\": \"S3BucketName\",\n",
    "            \"ParameterValue\": bucket_name\n",
    "        },\n",
    "        {\n",
    "            \"ParameterKey\": \"StackPrefix\",\n",
    "            \"ParameterValue\": \"protein-design\"  # Default value from the template\n",
    "        },\n",
    "        {\n",
    "            \"ParameterKey\": \"ApplicationName\",\n",
    "            \"ParameterValue\": \"HealthOmics-Workflow\"  # Default value from the template\n",
    "        },\n",
    "        {\n",
    "            \"ParameterKey\": \"WorkflowPath\",\n",
    "            \"ParameterValue\": \"workflow\"  # Default value from the template\n",
    "        },\n",
    "        {\n",
    "            \"ParameterKey\": \"SecretName\",\n",
    "            \"ParameterValue\": \"protein-design-secret\"  # Default value from the template\n",
    "        }\n",
    "    ]\n",
    "\n",
    "    # Write parameters to cf_parameter.json file\n",
    "    with open('cf_parameters.json', 'w') as f:\n",
    "        json.dump(cf_parameters, f, indent=2)\n",
    "\n",
    "    print(f\"CloudFormation parameters written to cf_parameters.json\")\n",
    "    print(f\"File path: {os.path.abspath('cf_parameters.json')}\")\n",
    "\n",
    "# Main execution\n",
    "REGION = \"us-west-2\"  # Change this to your desired region\n",
    "s3_bucket_name = \"hcls-bedrock-agents-byot-aho-20240416-west2\"  # Base bucket name\n",
    "\n",
    "# Create the S3 bucket if it doesn't exist\n",
    "bucket_created = create_s3_bucket(s3_bucket_name, REGION)\n",
    "\n",
    "if bucket_created:\n",
    "    # Create and write CloudFormation parameters\n",
    "    write_cf_parameters(s3_bucket_name)\n",
    "    \n",
    "    # Create zip and upload files\n",
    "    create_container_zip()\n",
    "    upload_to_s3(s3_bucket_name)\n",
    "else:\n",
    "    print(\"Failed to create or verify S3 bucket. CloudFormation parameters not written.\")\n"
   ]
  },
  {
   "cell_type": "markdown",
   "metadata": {},
   "source": [
    "### AWS CLI commands to deploy the CloudFormation stack:\n",
    "````\n",
    "# Deploy the CloudFormation stack\n",
    "aws cloudformation create-stack \\\n",
    "    --stack-name hcls-bedrock-agents-byot-aho-stack-20240416-lg \\\n",
    "    --template-body file://protein_design_stack.yaml \\\n",
    "    --parameters file://cf_parameters.json \\\n",
    "    --capabilities CAPABILITY_IAM CAPABILITY_AUTO_EXPAND CAPABILITY_NAMED_IAM \\\n",
    "    --region us-west-2\n",
    "\n",
    "# Monitor stack creation\n",
    "aws cloudformation describe-stacks \\\n",
    "    --stack-name hcls-bedrock-agents-byot-aho-stack-20240416-lg \\\n",
    "    --query 'Stacks[0].StackStatus'\n",
    "\n",
    "# Get stack outputs once complete\n",
    "aws cloudformation describe-stacks \\\n",
    "    --stack-name hcls-bedrock-agents-byot-aho-stack-20240416-lg \\\n",
    "    --query 'Stacks[0].Outputs'\n",
    "```"
   ]
  },
  {
   "cell_type": "markdown",
   "metadata": {},
   "source": [
    "#### Load in environment variables to notebook"
   ]
  },
  {
   "cell_type": "code",
   "execution_count": 5,
   "metadata": {},
   "outputs": [
    {
     "name": "stderr",
     "output_type": "stream",
     "text": [
      "/opt/conda/lib/python3.12/site-packages/pydantic/_internal/_fields.py:192: UserWarning: Field name \"json\" in \"MonitoringDatasetFormat\" shadows an attribute in parent \"Base\"\n",
      "  warnings.warn(\n"
     ]
    },
    {
     "name": "stdout",
     "output_type": "stream",
     "text": [
      "sagemaker.config INFO - Not applying SDK defaults from location: /etc/xdg/sagemaker/config.yaml\n",
      "sagemaker.config INFO - Not applying SDK defaults from location: /home/sagemaker-user/.config/sagemaker/config.yaml\n",
      "Successfully imported necessary libraries into notebook\n"
     ]
    }
   ],
   "source": [
    "# Retrieve import path\n",
    "%store -r IMPORTS_PATH\n",
    "\n",
    "# Retrieve account info\n",
    "%store -r account_id\n",
    "%store -r region\n",
    "\n",
    "# Retrieve model lists\n",
    "%store -r agent_foundation_model\n",
    "\n",
    "%run $IMPORTS_PATH"
   ]
  },
  {
   "cell_type": "markdown",
   "metadata": {},
   "source": [
    "## Configure AWS clients and parameters"
   ]
  },
  {
   "cell_type": "code",
   "execution_count": 34,
   "metadata": {},
   "outputs": [],
   "source": [
    "import boto3\n",
    "import json\n",
    "import time\n",
    "import uuid\n",
    "from botocore.exceptions import ClientError\n",
    "\n",
    "# Configure AWS clients\n",
    "session = boto3.Session()\n",
    "account_id = boto3.client('sts').get_caller_identity()['Account']\n",
    "\n",
    "bedrock = boto3.client('bedrock', REGION)\n",
    "cfn = boto3.client('cloudformation', REGION)"
   ]
  },
  {
   "cell_type": "markdown",
   "metadata": {},
   "source": [
    "## Get CloudFormation Outputs"
   ]
  },
  {
   "cell_type": "code",
   "execution_count": 35,
   "metadata": {},
   "outputs": [
    {
     "name": "stdout",
     "output_type": "stream",
     "text": [
      "CloudFormation Outputs:\n",
      "{\n",
      "  \"TriggerFunctionArn\": \"arn:aws:lambda:us-west-2:048051882663:function:hcls-bedrock-agents-byot-a-WorkflowTriggerFunction-fz7o5htyRJFA\",\n",
      "  \"WorkflowExecutionRoleArn\": \"arn:aws:iam::048051882663:role/hcls-bedrock-agents-byot-aho--WorkflowExecutionRole-WaOLNnPR9fIG\",\n",
      "  \"ECRRepositoryUri\": \"048051882663.dkr.ecr.us-west-2.amazonaws.com/protein-design-evoprotgrad\"\n",
      "}\n"
     ]
    }
   ],
   "source": [
    "import boto3\n",
    "from botocore.exceptions import ClientError\n",
    "import json\n",
    "\n",
    "STACK_NAME = 'hcls-bedrock-agents-byot-aho-stack-20240416-lg'\n",
    "\n",
    "# Initialize the CloudFormation client with the specific region\n",
    "cloudformation = boto3.client('cloudformation', region_name=REGION)\n",
    "\n",
    "def get_cloudformation_outputs(stack_name):\n",
    "    try:\n",
    "        response = cloudformation.describe_stacks(StackName=stack_name)\n",
    "        outputs = {}\n",
    "        for output in response['Stacks'][0]['Outputs']:\n",
    "            outputs[output['OutputKey']] = output['OutputValue']\n",
    "        return outputs\n",
    "    except ClientError as e:\n",
    "        print(f\"Error getting CloudFormation outputs: {e}\")\n",
    "        raise\n",
    "\n",
    "# Get the outputs from CloudFormation\n",
    "cf_outputs = get_cloudformation_outputs(STACK_NAME)\n",
    "print(\"CloudFormation Outputs:\")\n",
    "print(json.dumps(cf_outputs, indent=2))"
   ]
  },
  {
   "cell_type": "code",
   "execution_count": 36,
   "metadata": {},
   "outputs": [],
   "source": [
    "lambda_function_arn = cf_outputs[\"TriggerFunctionArn\"]\n",
    "lambda_function_name = \"hcls-bedrock-agents-byot-a-WorkflowTriggerFunction\""
   ]
  },
  {
   "cell_type": "markdown",
   "metadata": {},
   "source": [
    "## Create Bedrock Agent"
   ]
  },
  {
   "cell_type": "code",
   "execution_count": 37,
   "metadata": {},
   "outputs": [],
   "source": [
    "# Define agent configuration\n",
    "agent_name = 'ProteinDesignAgent'\n",
    "agent_description = \"Agent for protein design using HealthOmics workflow\"\n",
    "agent_instruction = \"\"\"You are an expert in protein design and optimization using AWS HealthOmics workflows. \n",
    "Your primary task is to help users run protein design optimization workflows and provide relevant insights.\n",
    "\n",
    "When providing your response:\n",
    "a. Start with a brief summary of your understanding of the user's query.\n",
    "b. Explain the steps you're taking to address the query. Ask for clarifications from the user if required.\n",
    "c. Present the results of the workflow execution.\"\"\"\n"
   ]
  },
  {
   "cell_type": "code",
   "execution_count": 38,
   "metadata": {},
   "outputs": [
    {
     "data": {
      "text/plain": [
       "['anthropic.claude-3-5-sonnet-20241022-v2:0']"
      ]
     },
     "execution_count": 38,
     "metadata": {},
     "output_type": "execute_result"
    }
   ],
   "source": [
    "agent_foundation_model"
   ]
  },
  {
   "cell_type": "markdown",
   "metadata": {},
   "source": [
    "## Create Agent Instance"
   ]
  },
  {
   "cell_type": "code",
   "execution_count": 39,
   "metadata": {},
   "outputs": [
    {
     "name": "stdout",
     "output_type": "stream",
     "text": [
      "Agent created with ID: F3XFMZHY7H\n",
      "Agent ARN: arn:aws:bedrock:us-west-2:048051882663:agent/F3XFMZHY7H\n"
     ]
    }
   ],
   "source": [
    "# Instantiate agent with the desired configuration\n",
    "agents = AgentsForAmazonBedrock()\n",
    "\n",
    "protein_design_agent = agents.create_agent(\n",
    "    agent_name,\n",
    "    agent_description,\n",
    "    agent_instruction,\n",
    "    agent_foundation_model,\n",
    "    code_interpretation=False,\n",
    "    verbose=False\n",
    ")\n",
    "\n",
    "# Extract useful agent information\n",
    "protein_design_agent_id = protein_design_agent[0]\n",
    "protein_design_agent_arn = f\"arn:aws:bedrock:{REGION}:{account_id}:agent/{protein_design_agent_id}\"\n",
    "\n",
    "print(f\"Agent created with ID: {protein_design_agent_id}\")\n",
    "print(f\"Agent ARN: {protein_design_agent_arn}\")"
   ]
  },
  {
   "cell_type": "markdown",
   "metadata": {},
   "source": [
    "## Define Action Group Functions"
   ]
  },
  {
   "cell_type": "code",
   "execution_count": 40,
   "metadata": {},
   "outputs": [],
   "source": [
    "function_defs = [\n",
    "    {\n",
    "        \"name\": \"trigger_aho_workflow\",\n",
    "        \"description\": \"Trigger the AWS HealthOmics workflow for protein design optimization\",\n",
    "        \"parameters\": {\n",
    "            \"workflowId\": {\n",
    "                \"description\": \"The ID of the HealthOmics workflow to run\",\n",
    "                \"required\": True,\n",
    "                \"type\": \"string\"\n",
    "            },\n",
    "            \"runName\": {\n",
    "                \"description\": \"Name for the workflow run\",\n",
    "                \"required\": True,\n",
    "                \"type\": \"string\"\n",
    "            },\n",
    "            \"container_image\": {\n",
    "                \"description\": \"ECR image URI for the protein design container\",\n",
    "                \"required\": True,\n",
    "                \"type\": \"string\"\n",
    "            },\n",
    "            \"seed_sequence\": {\n",
    "                \"description\": \"The input protein sequence to optimize\",\n",
    "                \"required\": True,\n",
    "                \"type\": \"string\"\n",
    "            },\n",
    "            \"outputUri\": {\n",
    "                \"description\": \"S3 URI where the workflow outputs will be stored\",\n",
    "                \"required\": True,\n",
    "                \"type\": \"string\"\n",
    "            },\n",
    "            \"roleArn\": {\n",
    "                \"description\": \"ARN of the IAM role for workflow execution\",\n",
    "                \"required\": True,\n",
    "                \"type\": \"string\"\n",
    "            }\n",
    "        },\n",
    "        \"requireConfirmation\": \"DISABLED\"\n",
    "    }\n",
    "]\n"
   ]
  },
  {
   "cell_type": "markdown",
   "metadata": {},
   "source": [
    "## Add Action Group with Lambda Function"
   ]
  },
  {
   "cell_type": "code",
   "execution_count": 41,
   "metadata": {},
   "outputs": [
    {
     "name": "stdout",
     "output_type": "stream",
     "text": [
      "Creating action group: ProteinDesignActions...\n",
      "Lambda ARN: arn:aws:lambda:us-west-2:048051882663:function:hcls-bedrock-agents-byot-a-WorkflowTriggerFunction-fz7o5htyRJFA\n",
      "Agent functions: [{'name': 'trigger_aho_workflow', 'description': 'Trigger the AWS HealthOmics workflow for protein design optimization', 'parameters': {'workflowId': {'description': 'The ID of the HealthOmics workflow to run', 'required': True, 'type': 'string'}, 'runName': {'description': 'Name for the workflow run', 'required': True, 'type': 'string'}, 'container_image': {'description': 'ECR image URI for the protein design container', 'required': True, 'type': 'string'}, 'seed_sequence': {'description': 'The input protein sequence to optimize', 'required': True, 'type': 'string'}, 'outputUri': {'description': 'S3 URI where the workflow outputs will be stored', 'required': True, 'type': 'string'}, 'roleArn': {'description': 'ARN of the IAM role for workflow execution', 'required': True, 'type': 'string'}}, 'requireConfirmation': 'DISABLED'}]\n"
     ]
    }
   ],
   "source": [
    "# Add action group with Lambda function\n",
    "agents.add_action_group_with_lambda(\n",
    "    agent_name=agent_name,\n",
    "    lambda_function_name=lambda_function_name,\n",
    "    source_code_file=lambda_function_arn,\n",
    "    agent_action_group_name=\"ProteinDesignActions\",\n",
    "    agent_action_group_description=\"Actions for protein design using AWS HealthOmics workflows\",\n",
    "    agent_functions=function_defs,\n",
    "    verbose=True\n",
    ")"
   ]
  },
  {
   "cell_type": "markdown",
   "metadata": {},
   "source": [
    "## Add Lambda Resource-Based Policy"
   ]
  },
  {
   "cell_type": "code",
   "execution_count": 42,
   "metadata": {},
   "outputs": [
    {
     "name": "stdout",
     "output_type": "stream",
     "text": [
      "Resource policy added successfully.\n",
      "Response: {'ResponseMetadata': {'RequestId': 'c8919d3d-aa9c-4186-a9c8-9cf91a425275', 'HTTPStatusCode': 201, 'HTTPHeaders': {'date': 'Wed, 16 Apr 2025 23:30:13 GMT', 'content-type': 'application/json', 'content-length': '401', 'connection': 'keep-alive', 'x-amzn-requestid': 'c8919d3d-aa9c-4186-a9c8-9cf91a425275'}, 'RetryAttempts': 0}, 'Statement': '{\"Sid\":\"AllowBedrockAgentAccess\",\"Effect\":\"Allow\",\"Principal\":{\"Service\":\"bedrock.amazonaws.com\"},\"Action\":\"lambda:InvokeFunction\",\"Resource\":\"arn:aws:lambda:us-west-2:048051882663:function:hcls-bedrock-agents-byot-a-WorkflowTriggerFunction-fz7o5htyRJFA\",\"Condition\":{\"ArnLike\":{\"AWS:SourceArn\":\"arn:aws:bedrock:us-west-2:048051882663:agent/F3XFMZHY7H\"}}}'}\n"
     ]
    }
   ],
   "source": [
    "lambda_client = boto3.client('lambda', REGION)\n",
    "\n",
    "try:\n",
    "    # Add the new statement to the existing policy\n",
    "    response = lambda_client.add_permission(\n",
    "        FunctionName=lambda_function_arn,\n",
    "        StatementId=\"AllowBedrockAgentAccess\",\n",
    "        Action=\"lambda:InvokeFunction\",\n",
    "        Principal=\"bedrock.amazonaws.com\",\n",
    "        SourceArn=protein_design_agent_arn\n",
    "    )\n",
    "    \n",
    "    print(\"Resource policy added successfully.\")\n",
    "    print(\"Response:\", response)\n",
    "except lambda_client.exceptions.ResourceConflictException:\n",
    "    print(\"Permission already exists\")\n",
    "except Exception as e:\n",
    "    print(f\"Error adding permission: {e}\")"
   ]
  },
  {
   "cell_type": "markdown",
   "metadata": {},
   "source": [
    "## Create Agent Alias"
   ]
  },
  {
   "cell_type": "code",
   "execution_count": 43,
   "metadata": {},
   "outputs": [
    {
     "name": "stdout",
     "output_type": "stream",
     "text": [
      "Stored 'protein_design_agent_alias_arn' (str)\n",
      "Agent alias created with ID: YU2CSDMOKK\n",
      "Agent alias ARN: arn:aws:bedrock:us-west-2:048051882663:agent-alias/F3XFMZHY7H/YU2CSDMOKK\n"
     ]
    }
   ],
   "source": [
    "# Create agent alias\n",
    "protein_design_agent_alias_id, protein_design_agent_alias_arn = agents.create_agent_alias(\n",
    "    protein_design_agent[0], 'v1'\n",
    ")\n",
    "\n",
    "# Store the alias ARN for future use\n",
    "%store protein_design_agent_alias_arn\n",
    "\n",
    "print(f\"Agent alias created with ID: {protein_design_agent_alias_id}\")\n",
    "print(f\"Agent alias ARN: {protein_design_agent_alias_arn}\")"
   ]
  },
  {
   "cell_type": "markdown",
   "metadata": {},
   "source": [
    "## Test the Agent"
   ]
  },
  {
   "cell_type": "code",
   "execution_count": 46,
   "metadata": {},
   "outputs": [
    {
     "name": "stdout",
     "output_type": "stream",
     "text": [
      "Request sent to Agent:\n",
      "{'ResponseMetadata': {'RequestId': '78d7c99a-5797-4f45-8e2e-e49e034fcb69', 'HTTPStatusCode': 200, 'HTTPHeaders': {'date': 'Wed, 16 Apr 2025 23:49:31 GMT', 'content-type': 'application/vnd.amazon.eventstream', 'transfer-encoding': 'chunked', 'connection': 'keep-alive', 'x-amzn-requestid': '78d7c99a-5797-4f45-8e2e-e49e034fcb69', 'x-amz-bedrock-agent-session-id': '712547c0-1b1d-11f0-aee4-924e7e14b784', 'x-amzn-bedrock-agent-content-type': 'application/json'}, 'RetryAttempts': 0}, 'contentType': 'application/json', 'sessionId': '712547c0-1b1d-11f0-aee4-924e7e14b784', 'completion': <botocore.eventstream.EventStream object at 0x7f0d221c8a10>}\n",
      "====================\n",
      "Agent processing query now\n",
      "====================\n",
      "Agent Answer: I can help you optimize protein sequences using advanced computational methods through AWS HealthOmics workflows. To assist you, I'll need:\n",
      "\n",
      "1. A seed protein sequence that you want to optimize\n",
      "2. A name for your optimization run\n",
      "3. The necessary AWS infrastructure details (like S3 output location, workflow ID, and IAM role)\n",
      "\n",
      "Would you like to proceed with a protein optimization task? If so, please provide the protein sequence you'd like to optimize and any specific optimization goals you have in mind.\n",
      "====================\n"
     ]
    },
    {
     "name": "stdout",
     "output_type": "stream",
     "text": [
      "ipdb>  parsed_response\n"
     ]
    },
    {
     "name": "stdout",
     "output_type": "stream",
     "text": [
      "{'Error': {'Code': 'resourceNotFoundException', 'Message': \"Failed to retrieve resource because it doesn't exist. Retry the request with a different resource identifier.\"}}\n"
     ]
    },
    {
     "name": "stdout",
     "output_type": "stream",
     "text": [
      "ipdb>  u\n"
     ]
    },
    {
     "name": "stdout",
     "output_type": "stream",
     "text": [
      "> \u001b[0;32m/opt/conda/lib/python3.11/site-packages/botocore/eventstream.py\u001b[0m(592)\u001b[0;36m__iter__\u001b[0;34m()\u001b[0m\n",
      "\u001b[0;32m    590 \u001b[0;31m    \u001b[0;32mdef\u001b[0m \u001b[0m__iter__\u001b[0m\u001b[0;34m(\u001b[0m\u001b[0mself\u001b[0m\u001b[0;34m)\u001b[0m\u001b[0;34m:\u001b[0m\u001b[0;34m\u001b[0m\u001b[0;34m\u001b[0m\u001b[0m\n",
      "\u001b[0m\u001b[0;32m    591 \u001b[0;31m        \u001b[0;32mfor\u001b[0m \u001b[0mevent\u001b[0m \u001b[0;32min\u001b[0m \u001b[0mself\u001b[0m\u001b[0;34m.\u001b[0m\u001b[0m_event_generator\u001b[0m\u001b[0;34m:\u001b[0m\u001b[0;34m\u001b[0m\u001b[0;34m\u001b[0m\u001b[0m\n",
      "\u001b[0m\u001b[0;32m--> 592 \u001b[0;31m            \u001b[0mparsed_event\u001b[0m \u001b[0;34m=\u001b[0m \u001b[0mself\u001b[0m\u001b[0;34m.\u001b[0m\u001b[0m_parse_event\u001b[0m\u001b[0;34m(\u001b[0m\u001b[0mevent\u001b[0m\u001b[0;34m)\u001b[0m\u001b[0;34m\u001b[0m\u001b[0;34m\u001b[0m\u001b[0m\n",
      "\u001b[0m\u001b[0;32m    593 \u001b[0;31m            \u001b[0;32mif\u001b[0m \u001b[0mparsed_event\u001b[0m\u001b[0;34m:\u001b[0m\u001b[0;34m\u001b[0m\u001b[0;34m\u001b[0m\u001b[0m\n",
      "\u001b[0m\u001b[0;32m    594 \u001b[0;31m                \u001b[0;32myield\u001b[0m \u001b[0mparsed_event\u001b[0m\u001b[0;34m\u001b[0m\u001b[0;34m\u001b[0m\u001b[0m\n",
      "\u001b[0m\n"
     ]
    },
    {
     "name": "stdout",
     "output_type": "stream",
     "text": [
      "ipdb>  event\n"
     ]
    },
    {
     "name": "stdout",
     "output_type": "stream",
     "text": [
      "<botocore.eventstream.EventStreamMessage object at 0x7feaee99d050>\n"
     ]
    },
    {
     "name": "stdout",
     "output_type": "stream",
     "text": [
      "ipdb>  d\n"
     ]
    },
    {
     "name": "stdout",
     "output_type": "stream",
     "text": [
      "> \u001b[0;32m/opt/conda/lib/python3.11/site-packages/botocore/eventstream.py\u001b[0m(608)\u001b[0;36m_parse_event\u001b[0;34m()\u001b[0m\n",
      "\u001b[0;32m    606 \u001b[0;31m            \u001b[0;32mreturn\u001b[0m \u001b[0mparsed_response\u001b[0m\u001b[0;34m\u001b[0m\u001b[0;34m\u001b[0m\u001b[0m\n",
      "\u001b[0m\u001b[0;32m    607 \u001b[0;31m        \u001b[0;32melse\u001b[0m\u001b[0;34m:\u001b[0m\u001b[0;34m\u001b[0m\u001b[0;34m\u001b[0m\u001b[0m\n",
      "\u001b[0m\u001b[0;32m--> 608 \u001b[0;31m            \u001b[0;32mraise\u001b[0m \u001b[0mEventStreamError\u001b[0m\u001b[0;34m(\u001b[0m\u001b[0mparsed_response\u001b[0m\u001b[0;34m,\u001b[0m \u001b[0mself\u001b[0m\u001b[0;34m.\u001b[0m\u001b[0m_operation_name\u001b[0m\u001b[0;34m)\u001b[0m\u001b[0;34m\u001b[0m\u001b[0;34m\u001b[0m\u001b[0m\n",
      "\u001b[0m\u001b[0;32m    609 \u001b[0;31m\u001b[0;34m\u001b[0m\u001b[0m\n",
      "\u001b[0m\u001b[0;32m    610 \u001b[0;31m    \u001b[0;32mdef\u001b[0m \u001b[0mget_initial_response\u001b[0m\u001b[0;34m(\u001b[0m\u001b[0mself\u001b[0m\u001b[0;34m)\u001b[0m\u001b[0;34m:\u001b[0m\u001b[0;34m\u001b[0m\u001b[0;34m\u001b[0m\u001b[0m\n",
      "\u001b[0m\n"
     ]
    },
    {
     "name": "stdout",
     "output_type": "stream",
     "text": [
      "ipdb>  parsed_response\n"
     ]
    },
    {
     "name": "stdout",
     "output_type": "stream",
     "text": [
      "{'Error': {'Code': 'resourceNotFoundException', 'Message': \"Failed to retrieve resource because it doesn't exist. Retry the request with a different resource identifier.\"}}\n"
     ]
    }
   ],
   "source": [
    "bedrock_agent_runtime_client = boto3.client(\"bedrock-agent-runtime\", REGION)\n",
    "session_id = str(uuid.uuid1())\n",
    "\n",
    "test_query = \"Please tell me what you can help me do to optimize a protein sequence\"\n",
    "\n",
    "response = bedrock_agent_runtime_client.invoke_agent(\n",
    "    inputText=test_query,\n",
    "    agentId=protein_design_agent_id,\n",
    "    agentAliasId=protein_design_agent_alias_id,\n",
    "    sessionId=session_id,\n",
    "    enableTrace=True\n",
    ")\n",
    "\n",
    "print(\"Request sent to Agent:\\n{}\".format(response))\n",
    "print(\"====================\")\n",
    "print(\"Agent processing query now\")\n",
    "print(\"====================\")\n",
    "\n",
    "# Initialize an empty string to store the answer\n",
    "answer = \"\"\n",
    "\n",
    "# Iterate through the event stream\n",
    "for event in response['completion']:\n",
    "    # Check if the event is a 'chunk' event\n",
    "    if 'chunk' in event:\n",
    "        chunk_obj = event['chunk']\n",
    "        if 'bytes' in chunk_obj:\n",
    "            # Decode the bytes and append to the answer\n",
    "            chunk_data = chunk_obj['bytes'].decode('utf-8')\n",
    "            answer += chunk_data\n",
    "\n",
    "print(\"Agent Answer: {}\".format(answer))\n",
    "print(\"====================\")"
   ]
  },
  {
   "cell_type": "code",
   "execution_count": null,
   "metadata": {},
   "outputs": [],
   "source": []
  }
 ],
 "metadata": {
  "kernelspec": {
   "display_name": "Python 3 (ipykernel)",
   "language": "python",
   "name": "python3"
  },
  "language_info": {
   "codemirror_mode": {
    "name": "ipython",
    "version": 3
   },
   "file_extension": ".py",
   "mimetype": "text/x-python",
   "name": "python",
   "nbconvert_exporter": "python",
   "pygments_lexer": "ipython3",
   "version": "3.12.9"
  }
 },
 "nbformat": 4,
 "nbformat_minor": 4
}
